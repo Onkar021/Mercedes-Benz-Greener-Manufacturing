{
 "cells": [
  {
   "cell_type": "markdown",
   "id": "a002e1fe",
   "metadata": {},
   "source": [
    "## Importing Libraries"
   ]
  },
  {
   "cell_type": "code",
   "execution_count": 1,
   "id": "181e75cb",
   "metadata": {},
   "outputs": [],
   "source": [
    "import numpy as np\n",
    "import pandas as pd\n",
    "import joblib\n",
    "import scipy.stats as stats\n",
    "import seaborn as sns\n",
    "import matplotlib.pyplot as plt\n",
    "from statistics import variance\n",
    "from sklearn.preprocessing import LabelEncoder\n",
    "from sklearn.ensemble import RandomForestRegressor\n",
    "from sklearn.decomposition import PCA\n",
    "from sklearn.model_selection import train_test_split\n",
    "\n",
    "\n",
    "import warnings\n",
    "warnings.filterwarnings(\"ignore\")"
   ]
  },
  {
   "cell_type": "markdown",
   "id": "62147d13",
   "metadata": {},
   "source": [
    "## Data Loading "
   ]
  },
  {
   "cell_type": "code",
   "execution_count": 2,
   "id": "cf79dce5",
   "metadata": {},
   "outputs": [
    {
     "data": {
      "text/html": [
       "<div>\n",
       "<style scoped>\n",
       "    .dataframe tbody tr th:only-of-type {\n",
       "        vertical-align: middle;\n",
       "    }\n",
       "\n",
       "    .dataframe tbody tr th {\n",
       "        vertical-align: top;\n",
       "    }\n",
       "\n",
       "    .dataframe thead th {\n",
       "        text-align: right;\n",
       "    }\n",
       "</style>\n",
       "<table border=\"1\" class=\"dataframe\">\n",
       "  <thead>\n",
       "    <tr style=\"text-align: right;\">\n",
       "      <th></th>\n",
       "      <th>ID</th>\n",
       "      <th>y</th>\n",
       "      <th>X0</th>\n",
       "      <th>X1</th>\n",
       "      <th>X2</th>\n",
       "      <th>X3</th>\n",
       "      <th>X4</th>\n",
       "      <th>X5</th>\n",
       "      <th>X6</th>\n",
       "      <th>X8</th>\n",
       "      <th>...</th>\n",
       "      <th>X375</th>\n",
       "      <th>X376</th>\n",
       "      <th>X377</th>\n",
       "      <th>X378</th>\n",
       "      <th>X379</th>\n",
       "      <th>X380</th>\n",
       "      <th>X382</th>\n",
       "      <th>X383</th>\n",
       "      <th>X384</th>\n",
       "      <th>X385</th>\n",
       "    </tr>\n",
       "  </thead>\n",
       "  <tbody>\n",
       "    <tr>\n",
       "      <th>0</th>\n",
       "      <td>0</td>\n",
       "      <td>130.81</td>\n",
       "      <td>k</td>\n",
       "      <td>v</td>\n",
       "      <td>at</td>\n",
       "      <td>a</td>\n",
       "      <td>d</td>\n",
       "      <td>u</td>\n",
       "      <td>j</td>\n",
       "      <td>o</td>\n",
       "      <td>...</td>\n",
       "      <td>0</td>\n",
       "      <td>0</td>\n",
       "      <td>1</td>\n",
       "      <td>0</td>\n",
       "      <td>0</td>\n",
       "      <td>0</td>\n",
       "      <td>0</td>\n",
       "      <td>0</td>\n",
       "      <td>0</td>\n",
       "      <td>0</td>\n",
       "    </tr>\n",
       "    <tr>\n",
       "      <th>1</th>\n",
       "      <td>6</td>\n",
       "      <td>88.53</td>\n",
       "      <td>k</td>\n",
       "      <td>t</td>\n",
       "      <td>av</td>\n",
       "      <td>e</td>\n",
       "      <td>d</td>\n",
       "      <td>y</td>\n",
       "      <td>l</td>\n",
       "      <td>o</td>\n",
       "      <td>...</td>\n",
       "      <td>1</td>\n",
       "      <td>0</td>\n",
       "      <td>0</td>\n",
       "      <td>0</td>\n",
       "      <td>0</td>\n",
       "      <td>0</td>\n",
       "      <td>0</td>\n",
       "      <td>0</td>\n",
       "      <td>0</td>\n",
       "      <td>0</td>\n",
       "    </tr>\n",
       "    <tr>\n",
       "      <th>2</th>\n",
       "      <td>7</td>\n",
       "      <td>76.26</td>\n",
       "      <td>az</td>\n",
       "      <td>w</td>\n",
       "      <td>n</td>\n",
       "      <td>c</td>\n",
       "      <td>d</td>\n",
       "      <td>x</td>\n",
       "      <td>j</td>\n",
       "      <td>x</td>\n",
       "      <td>...</td>\n",
       "      <td>0</td>\n",
       "      <td>0</td>\n",
       "      <td>0</td>\n",
       "      <td>0</td>\n",
       "      <td>0</td>\n",
       "      <td>0</td>\n",
       "      <td>1</td>\n",
       "      <td>0</td>\n",
       "      <td>0</td>\n",
       "      <td>0</td>\n",
       "    </tr>\n",
       "    <tr>\n",
       "      <th>3</th>\n",
       "      <td>9</td>\n",
       "      <td>80.62</td>\n",
       "      <td>az</td>\n",
       "      <td>t</td>\n",
       "      <td>n</td>\n",
       "      <td>f</td>\n",
       "      <td>d</td>\n",
       "      <td>x</td>\n",
       "      <td>l</td>\n",
       "      <td>e</td>\n",
       "      <td>...</td>\n",
       "      <td>0</td>\n",
       "      <td>0</td>\n",
       "      <td>0</td>\n",
       "      <td>0</td>\n",
       "      <td>0</td>\n",
       "      <td>0</td>\n",
       "      <td>0</td>\n",
       "      <td>0</td>\n",
       "      <td>0</td>\n",
       "      <td>0</td>\n",
       "    </tr>\n",
       "    <tr>\n",
       "      <th>4</th>\n",
       "      <td>13</td>\n",
       "      <td>78.02</td>\n",
       "      <td>az</td>\n",
       "      <td>v</td>\n",
       "      <td>n</td>\n",
       "      <td>f</td>\n",
       "      <td>d</td>\n",
       "      <td>h</td>\n",
       "      <td>d</td>\n",
       "      <td>n</td>\n",
       "      <td>...</td>\n",
       "      <td>0</td>\n",
       "      <td>0</td>\n",
       "      <td>0</td>\n",
       "      <td>0</td>\n",
       "      <td>0</td>\n",
       "      <td>0</td>\n",
       "      <td>0</td>\n",
       "      <td>0</td>\n",
       "      <td>0</td>\n",
       "      <td>0</td>\n",
       "    </tr>\n",
       "  </tbody>\n",
       "</table>\n",
       "<p>5 rows × 378 columns</p>\n",
       "</div>"
      ],
      "text/plain": [
       "   ID       y  X0 X1  X2 X3 X4 X5 X6 X8  ...  X375  X376  X377  X378  X379  \\\n",
       "0   0  130.81   k  v  at  a  d  u  j  o  ...     0     0     1     0     0   \n",
       "1   6   88.53   k  t  av  e  d  y  l  o  ...     1     0     0     0     0   \n",
       "2   7   76.26  az  w   n  c  d  x  j  x  ...     0     0     0     0     0   \n",
       "3   9   80.62  az  t   n  f  d  x  l  e  ...     0     0     0     0     0   \n",
       "4  13   78.02  az  v   n  f  d  h  d  n  ...     0     0     0     0     0   \n",
       "\n",
       "   X380  X382  X383  X384  X385  \n",
       "0     0     0     0     0     0  \n",
       "1     0     0     0     0     0  \n",
       "2     0     1     0     0     0  \n",
       "3     0     0     0     0     0  \n",
       "4     0     0     0     0     0  \n",
       "\n",
       "[5 rows x 378 columns]"
      ]
     },
     "execution_count": 2,
     "metadata": {},
     "output_type": "execute_result"
    }
   ],
   "source": [
    "data = pd.read_csv('train.csv')\n",
    "\n",
    "data.head()"
   ]
  },
  {
   "cell_type": "code",
   "execution_count": 3,
   "id": "0b889d7d",
   "metadata": {},
   "outputs": [
    {
     "data": {
      "text/html": [
       "<div>\n",
       "<style scoped>\n",
       "    .dataframe tbody tr th:only-of-type {\n",
       "        vertical-align: middle;\n",
       "    }\n",
       "\n",
       "    .dataframe tbody tr th {\n",
       "        vertical-align: top;\n",
       "    }\n",
       "\n",
       "    .dataframe thead th {\n",
       "        text-align: right;\n",
       "    }\n",
       "</style>\n",
       "<table border=\"1\" class=\"dataframe\">\n",
       "  <thead>\n",
       "    <tr style=\"text-align: right;\">\n",
       "      <th></th>\n",
       "      <th>ID</th>\n",
       "      <th>X0</th>\n",
       "      <th>X1</th>\n",
       "      <th>X2</th>\n",
       "      <th>X3</th>\n",
       "      <th>X4</th>\n",
       "      <th>X5</th>\n",
       "      <th>X6</th>\n",
       "      <th>X8</th>\n",
       "      <th>X10</th>\n",
       "      <th>...</th>\n",
       "      <th>X375</th>\n",
       "      <th>X376</th>\n",
       "      <th>X377</th>\n",
       "      <th>X378</th>\n",
       "      <th>X379</th>\n",
       "      <th>X380</th>\n",
       "      <th>X382</th>\n",
       "      <th>X383</th>\n",
       "      <th>X384</th>\n",
       "      <th>X385</th>\n",
       "    </tr>\n",
       "  </thead>\n",
       "  <tbody>\n",
       "    <tr>\n",
       "      <th>0</th>\n",
       "      <td>1</td>\n",
       "      <td>az</td>\n",
       "      <td>v</td>\n",
       "      <td>n</td>\n",
       "      <td>f</td>\n",
       "      <td>d</td>\n",
       "      <td>t</td>\n",
       "      <td>a</td>\n",
       "      <td>w</td>\n",
       "      <td>0</td>\n",
       "      <td>...</td>\n",
       "      <td>0</td>\n",
       "      <td>0</td>\n",
       "      <td>0</td>\n",
       "      <td>1</td>\n",
       "      <td>0</td>\n",
       "      <td>0</td>\n",
       "      <td>0</td>\n",
       "      <td>0</td>\n",
       "      <td>0</td>\n",
       "      <td>0</td>\n",
       "    </tr>\n",
       "    <tr>\n",
       "      <th>1</th>\n",
       "      <td>2</td>\n",
       "      <td>t</td>\n",
       "      <td>b</td>\n",
       "      <td>ai</td>\n",
       "      <td>a</td>\n",
       "      <td>d</td>\n",
       "      <td>b</td>\n",
       "      <td>g</td>\n",
       "      <td>y</td>\n",
       "      <td>0</td>\n",
       "      <td>...</td>\n",
       "      <td>0</td>\n",
       "      <td>0</td>\n",
       "      <td>1</td>\n",
       "      <td>0</td>\n",
       "      <td>0</td>\n",
       "      <td>0</td>\n",
       "      <td>0</td>\n",
       "      <td>0</td>\n",
       "      <td>0</td>\n",
       "      <td>0</td>\n",
       "    </tr>\n",
       "    <tr>\n",
       "      <th>2</th>\n",
       "      <td>3</td>\n",
       "      <td>az</td>\n",
       "      <td>v</td>\n",
       "      <td>as</td>\n",
       "      <td>f</td>\n",
       "      <td>d</td>\n",
       "      <td>a</td>\n",
       "      <td>j</td>\n",
       "      <td>j</td>\n",
       "      <td>0</td>\n",
       "      <td>...</td>\n",
       "      <td>0</td>\n",
       "      <td>0</td>\n",
       "      <td>0</td>\n",
       "      <td>1</td>\n",
       "      <td>0</td>\n",
       "      <td>0</td>\n",
       "      <td>0</td>\n",
       "      <td>0</td>\n",
       "      <td>0</td>\n",
       "      <td>0</td>\n",
       "    </tr>\n",
       "    <tr>\n",
       "      <th>3</th>\n",
       "      <td>4</td>\n",
       "      <td>az</td>\n",
       "      <td>l</td>\n",
       "      <td>n</td>\n",
       "      <td>f</td>\n",
       "      <td>d</td>\n",
       "      <td>z</td>\n",
       "      <td>l</td>\n",
       "      <td>n</td>\n",
       "      <td>0</td>\n",
       "      <td>...</td>\n",
       "      <td>0</td>\n",
       "      <td>0</td>\n",
       "      <td>0</td>\n",
       "      <td>1</td>\n",
       "      <td>0</td>\n",
       "      <td>0</td>\n",
       "      <td>0</td>\n",
       "      <td>0</td>\n",
       "      <td>0</td>\n",
       "      <td>0</td>\n",
       "    </tr>\n",
       "    <tr>\n",
       "      <th>4</th>\n",
       "      <td>5</td>\n",
       "      <td>w</td>\n",
       "      <td>s</td>\n",
       "      <td>as</td>\n",
       "      <td>c</td>\n",
       "      <td>d</td>\n",
       "      <td>y</td>\n",
       "      <td>i</td>\n",
       "      <td>m</td>\n",
       "      <td>0</td>\n",
       "      <td>...</td>\n",
       "      <td>1</td>\n",
       "      <td>0</td>\n",
       "      <td>0</td>\n",
       "      <td>0</td>\n",
       "      <td>0</td>\n",
       "      <td>0</td>\n",
       "      <td>0</td>\n",
       "      <td>0</td>\n",
       "      <td>0</td>\n",
       "      <td>0</td>\n",
       "    </tr>\n",
       "  </tbody>\n",
       "</table>\n",
       "<p>5 rows × 377 columns</p>\n",
       "</div>"
      ],
      "text/plain": [
       "   ID  X0 X1  X2 X3 X4 X5 X6 X8  X10  ...  X375  X376  X377  X378  X379  X380  \\\n",
       "0   1  az  v   n  f  d  t  a  w    0  ...     0     0     0     1     0     0   \n",
       "1   2   t  b  ai  a  d  b  g  y    0  ...     0     0     1     0     0     0   \n",
       "2   3  az  v  as  f  d  a  j  j    0  ...     0     0     0     1     0     0   \n",
       "3   4  az  l   n  f  d  z  l  n    0  ...     0     0     0     1     0     0   \n",
       "4   5   w  s  as  c  d  y  i  m    0  ...     1     0     0     0     0     0   \n",
       "\n",
       "   X382  X383  X384  X385  \n",
       "0     0     0     0     0  \n",
       "1     0     0     0     0  \n",
       "2     0     0     0     0  \n",
       "3     0     0     0     0  \n",
       "4     0     0     0     0  \n",
       "\n",
       "[5 rows x 377 columns]"
      ]
     },
     "execution_count": 3,
     "metadata": {},
     "output_type": "execute_result"
    }
   ],
   "source": [
    "test_data = pd.read_csv('test.csv')\n",
    "\n",
    "test_data.head()"
   ]
  },
  {
   "cell_type": "markdown",
   "id": "e78c851d",
   "metadata": {},
   "source": [
    "## Exploratory Data Analysis "
   ]
  },
  {
   "cell_type": "markdown",
   "id": "195ef100",
   "metadata": {},
   "source": [
    "#### Shape of Train & Test data "
   ]
  },
  {
   "cell_type": "code",
   "execution_count": 16,
   "id": "cb60ecd8",
   "metadata": {},
   "outputs": [
    {
     "name": "stdout",
     "output_type": "stream",
     "text": [
      "Train Data =  (4209, 378)\n",
      "Test Data =  (4209, 377)\n"
     ]
    }
   ],
   "source": [
    "print('Train Data = ', data.shape)\n",
    "print('Test Data = ', test_data.shape)"
   ]
  },
  {
   "cell_type": "markdown",
   "id": "4d9534e8",
   "metadata": {},
   "source": [
    "1. Train data contain 8 categorical, 368 binary features and class label.\n",
    "2. Test data contain 8 categorical & 368 binary features.\n",
    "3. Both datasets have 4209 datapoints."
   ]
  },
  {
   "cell_type": "markdown",
   "id": "3d4cb873",
   "metadata": {},
   "source": [
    "#### Checking for any missing values "
   ]
  },
  {
   "cell_type": "code",
   "execution_count": 17,
   "id": "201e5989",
   "metadata": {},
   "outputs": [
    {
     "data": {
      "text/plain": [
       "False"
      ]
     },
     "execution_count": 17,
     "metadata": {},
     "output_type": "execute_result"
    }
   ],
   "source": [
    "nan_in_data = data.isnull().sum().any()\n",
    "nan_in_data"
   ]
  },
  {
   "cell_type": "code",
   "execution_count": 18,
   "id": "783dde87",
   "metadata": {},
   "outputs": [
    {
     "data": {
      "text/plain": [
       "False"
      ]
     },
     "execution_count": 18,
     "metadata": {},
     "output_type": "execute_result"
    }
   ],
   "source": [
    "nan_in_test_data = test_data.isnull().sum().any()\n",
    "nan_in_test_data"
   ]
  },
  {
   "cell_type": "markdown",
   "id": "c09263bd",
   "metadata": {},
   "source": [
    "There are not missing values in Train & Test dataset"
   ]
  },
  {
   "cell_type": "markdown",
   "id": "ee99a7bd",
   "metadata": {},
   "source": [
    "####  Checking for duplicate rows"
   ]
  },
  {
   "cell_type": "code",
   "execution_count": 19,
   "id": "393c874b",
   "metadata": {},
   "outputs": [
    {
     "name": "stdout",
     "output_type": "stream",
     "text": [
      "False\n",
      "False\n"
     ]
    }
   ],
   "source": [
    "duplicate_in_data = data.duplicated().sum().any()\n",
    "print(duplicate_in_data)\n",
    "\n",
    "duplicate_in_test_data = test_data.duplicated().sum().any()\n",
    "print(duplicate_in_test_data)"
   ]
  },
  {
   "cell_type": "markdown",
   "id": "e894dc47",
   "metadata": {},
   "source": [
    "There are not duplicate rows in Train & Test dataset"
   ]
  },
  {
   "cell_type": "markdown",
   "id": "ce71c1cd",
   "metadata": {},
   "source": [
    "#### Checking for duplicate ID's "
   ]
  },
  {
   "cell_type": "code",
   "execution_count": 20,
   "id": "fc0f6cfb",
   "metadata": {},
   "outputs": [
    {
     "name": "stdout",
     "output_type": "stream",
     "text": [
      "False\n",
      "False\n"
     ]
    }
   ],
   "source": [
    "duplicate_id_in_data = data['ID'].duplicated().sum().any()\n",
    "print(duplicate_id_in_data)\n",
    "\n",
    "duplicate_id_in_test_data = test_data['ID'].duplicated().sum().any()\n",
    "print(duplicate_id_in_test_data)"
   ]
  },
  {
   "cell_type": "markdown",
   "id": "b403a431",
   "metadata": {},
   "source": [
    " There are not duplicate ID's in Train & Test dataset"
   ]
  },
  {
   "cell_type": "markdown",
   "id": "4d8a2f94",
   "metadata": {},
   "source": [
    "#### Checking distribution of dependent variable "
   ]
  },
  {
   "cell_type": "code",
   "execution_count": 4,
   "id": "ca999d18",
   "metadata": {},
   "outputs": [],
   "source": [
    "labels = data['y']"
   ]
  },
  {
   "cell_type": "code",
   "execution_count": 22,
   "id": "6272108e",
   "metadata": {},
   "outputs": [
    {
     "data": {
      "image/png": "[encoded data removed]",
      "text/plain": [
       "<Figure size 432x288 with 1 Axes>"
      ]
     },
     "metadata": {
      "needs_background": "light"
     },
     "output_type": "display_data"
    }
   ],
   "source": [
    "ax = sns.distplot(labels,\n",
    "                  bins=25,\n",
    "                  kde=True,\n",
    "                  color='red',\n",
    "                  hist_kws={\"linewidth\": 15,'alpha':1})\n",
    "ax.set(xlabel='Testing Time(Seconds)', ylabel='Index')\n",
    " \n",
    "plt.show()"
   ]
  },
  {
   "cell_type": "code",
   "execution_count": 23,
   "id": "4274db42",
   "metadata": {},
   "outputs": [
    {
     "data": {
      "image/png": "[encoded data removed]",
      "text/plain": [
       "<Figure size 432x288 with 1 Axes>"
      ]
     },
     "metadata": {
      "needs_background": "light"
     },
     "output_type": "display_data"
    }
   ],
   "source": [
    "plt.hist(labels)\n",
    "plt.xlabel('Testing Time')\n",
    "plt.ylabel('Index of Car')\n",
    "plt.title('Histogram of Testing Time (Dependent Variable)')\n",
    "plt.show()"
   ]
  },
  {
   "cell_type": "code",
   "execution_count": 24,
   "id": "3a968f55",
   "metadata": {},
   "outputs": [
    {
     "data": {
      "image/png": "[encoded data removed]",
      "text/plain": [
       "<Figure size 432x288 with 1 Axes>"
      ]
     },
     "metadata": {
      "needs_background": "light"
     },
     "output_type": "display_data"
    }
   ],
   "source": [
    "plt.scatter(np.arange(1,4210,1), labels)\n",
    "plt.xlabel('Index of Car')\n",
    "plt.ylabel('Testing Time')\n",
    "plt.title('Scatter plot of Testing Time (Dependent Variable)')\n",
    "plt.show()"
   ]
  },
  {
   "cell_type": "markdown",
   "id": "e4214d2e",
   "metadata": {},
   "source": [
    "1. From above plots we can say that data is right tailed skewed.\n",
    "2. After seeing scatter plot we observe that most of the cars testing time lies between 75 sec. to 150 sec.\n",
    "3. Now we can say that datapoints having testing time above 150 sec. are outliers.\n",
    "4. For better understanding of outliers we compute percentiles of dependent variables."
   ]
  },
  {
   "cell_type": "markdown",
   "id": "ef4c1140",
   "metadata": {},
   "source": [
    "#### 90th Percentile to 100th  "
   ]
  },
  {
   "cell_type": "code",
   "execution_count": 25,
   "id": "3469e36b",
   "metadata": {},
   "outputs": [
    {
     "name": "stdout",
     "output_type": "stream",
     "text": [
      "90 th percentile: 115.25\n",
      "91 th percentile: 116.04840000000002\n",
      "92 th percentile: 116.89160000000001\n",
      "93 th percentile: 118.0376\n",
      "94 th percentile: 119.056\n",
      "95 th percentile: 120.806\n",
      "96 th percentile: 122.4\n",
      "97 th percentile: 125.89319999999998\n",
      "98 th percentile: 129.2992\n",
      "99 th percentile: 137.43040000000002\n",
      "100 th percentile: 265.32\n"
     ]
    }
   ],
   "source": [
    "for i in range(90 , 101, 1):\n",
    "    print(i ,'th percentile:', data.y.quantile(i/100)) "
   ]
  },
  {
   "cell_type": "markdown",
   "id": "418c2dc4",
   "metadata": {},
   "source": [
    "#### 99th Percentile to 99.9th "
   ]
  },
  {
   "cell_type": "code",
   "execution_count": 26,
   "id": "e39052c8",
   "metadata": {},
   "outputs": [
    {
     "name": "stdout",
     "output_type": "stream",
     "text": [
      "99 th percentile: 137.43040000000002\n",
      "99.1 th percentile: 139.09024\n",
      "99.2 th percentile: 140.18360000000004\n",
      "99.3 th percentile: 140.81639999999993\n",
      "99.4 th percentile: 142.6480000000001\n",
      "99.5 th percentile: 146.2304000000001\n",
      "99.6 th percentile: 149.0374399999998\n",
      "99.7 th percentile: 151.4276800000003\n",
      "99.8 th percentile: 154.68695999999994\n",
      "99.9 th percentile: 160.38328000000087\n",
      "100.0 th percentile: 265.32\n"
     ]
    }
   ],
   "source": [
    "p = 99\n",
    "i = 0\n",
    "while(i < 1):\n",
    "    p = p + i\n",
    "    i = i + 0.1\n",
    "    print(p ,'th percentile:', data.y.quantile(p/100))\n",
    "    p = 99"
   ]
  },
  {
   "cell_type": "markdown",
   "id": "70e95fec",
   "metadata": {},
   "source": [
    "99.8 Percent of datapoints take less time than 155 sec. So we will consider datapoints having testing time above 155 sec. \n",
    "as outliers."
   ]
  },
  {
   "cell_type": "markdown",
   "id": "93be6f77",
   "metadata": {},
   "source": [
    "#### Removing outliers "
   ]
  },
  {
   "cell_type": "code",
   "execution_count": 4,
   "id": "a35f8ede",
   "metadata": {},
   "outputs": [],
   "source": [
    "train_data = data.drop(data[data['y'] > 155].index).reset_index(drop = True)\n",
    "\n",
    "#test_data = test_data.drop(test_data[test_data['y'] > 155].index).reset_index(drop = True)"
   ]
  },
  {
   "cell_type": "code",
   "execution_count": 28,
   "id": "a7c27b44",
   "metadata": {},
   "outputs": [
    {
     "name": "stdout",
     "output_type": "stream",
     "text": [
      "(4201, 378)\n"
     ]
    }
   ],
   "source": [
    "print(train_data.shape)\n",
    "#print(test_data.shape)"
   ]
  },
  {
   "cell_type": "markdown",
   "id": "a19ea1e7",
   "metadata": {},
   "source": [
    "#### Analysis of Categorical features "
   ]
  },
  {
   "cell_type": "code",
   "execution_count": 29,
   "id": "4cd5fd9a",
   "metadata": {},
   "outputs": [
    {
     "data": {
      "text/plain": [
       "<AxesSubplot:xlabel='X8', ylabel='y'>"
      ]
     },
     "execution_count": 29,
     "metadata": {},
     "output_type": "execute_result"
    },
    {
     "data": {
      "image/png": "[encoded data removed]",
      "text/plain": [
       "<Figure size 1440x720 with 9 Axes>"
      ]
     },
     "metadata": {
      "needs_background": "light"
     },
     "output_type": "display_data"
    }
   ],
   "source": [
    "fig, ax = plt.subplots(3, 3, figsize=(20, 10))\n",
    "sns.boxplot( x = 'X0',y = 'y', data = train_data, ax = ax[0, 0])\n",
    "sns.boxplot( x = 'X1',y = 'y', data = train_data, ax = ax[0, 1])\n",
    "sns.boxplot( x = 'X2',y = 'y', data = train_data, ax = ax[0, 2])\n",
    "sns.boxplot( x = 'X3',y = 'y', data = train_data, ax = ax[1, 0])\n",
    "sns.boxplot( x = 'X4',y = 'y', data = train_data, ax = ax[1, 1])\n",
    "sns.boxplot( x = 'X5',y = 'y', data = train_data, ax = ax[1, 2])\n",
    "sns.boxplot( x = 'X6',y = 'y', data = train_data, ax = ax[2, 0])\n",
    "sns.boxplot( x = 'X8',y = 'y', data = train_data, ax = ax[2, 1])"
   ]
  },
  {
   "cell_type": "markdown",
   "id": "779dfd7a",
   "metadata": {},
   "source": [
    "1. We removed outliers from training data\n",
    "2. From above boxplots we can say that all categorical features have good variance except X4\n",
    "3. Almost categories median is around 100 (Just an observation)\n",
    "4. From above boxplots we can see that each category have reasonable datapoints.\n",
    "5. X4 feature gives less information so will remove it."
   ]
  },
  {
   "cell_type": "code",
   "execution_count": 5,
   "id": "ad568258",
   "metadata": {},
   "outputs": [],
   "source": [
    "train_data = train_data.drop(columns = ['X4'])\n",
    "\n",
    "test_data = test_data.drop(columns = ['X4'])"
   ]
  },
  {
   "cell_type": "code",
   "execution_count": 31,
   "id": "952f949c",
   "metadata": {},
   "outputs": [
    {
     "name": "stdout",
     "output_type": "stream",
     "text": [
      "(4201, 377)\n",
      "(4209, 376)\n"
     ]
    }
   ],
   "source": [
    "print(train_data.shape)\n",
    "print(test_data.shape)"
   ]
  },
  {
   "cell_type": "markdown",
   "id": "685be04d",
   "metadata": {},
   "source": [
    "#### Analysis of Binary features "
   ]
  },
  {
   "cell_type": "code",
   "execution_count": 6,
   "id": "a4369877",
   "metadata": {},
   "outputs": [
    {
     "data": {
      "text/html": [
       "<div>\n",
       "<style scoped>\n",
       "    .dataframe tbody tr th:only-of-type {\n",
       "        vertical-align: middle;\n",
       "    }\n",
       "\n",
       "    .dataframe tbody tr th {\n",
       "        vertical-align: top;\n",
       "    }\n",
       "\n",
       "    .dataframe thead th {\n",
       "        text-align: right;\n",
       "    }\n",
       "</style>\n",
       "<table border=\"1\" class=\"dataframe\">\n",
       "  <thead>\n",
       "    <tr style=\"text-align: right;\">\n",
       "      <th></th>\n",
       "      <th>feature</th>\n",
       "      <th>variance</th>\n",
       "    </tr>\n",
       "  </thead>\n",
       "  <tbody>\n",
       "    <tr>\n",
       "      <th>0</th>\n",
       "      <td>X10</td>\n",
       "      <td>0.013156</td>\n",
       "    </tr>\n",
       "    <tr>\n",
       "      <th>1</th>\n",
       "      <td>X11</td>\n",
       "      <td>0.000000</td>\n",
       "    </tr>\n",
       "    <tr>\n",
       "      <th>2</th>\n",
       "      <td>X12</td>\n",
       "      <td>0.068971</td>\n",
       "    </tr>\n",
       "    <tr>\n",
       "      <th>3</th>\n",
       "      <td>X13</td>\n",
       "      <td>0.054510</td>\n",
       "    </tr>\n",
       "    <tr>\n",
       "      <th>4</th>\n",
       "      <td>X14</td>\n",
       "      <td>0.244908</td>\n",
       "    </tr>\n",
       "  </tbody>\n",
       "</table>\n",
       "</div>"
      ],
      "text/plain": [
       "  feature  variance\n",
       "0     X10  0.013156\n",
       "1     X11  0.000000\n",
       "2     X12  0.068971\n",
       "3     X13  0.054510\n",
       "4     X14  0.244908"
      ]
     },
     "execution_count": 6,
     "metadata": {},
     "output_type": "execute_result"
    }
   ],
   "source": [
    "binary_features = train_data.drop(columns = ['ID', 'y', 'X0', 'X1', 'X2', 'X3', 'X5', 'X6', 'X8'])\n",
    "clm_lst = list(binary_features.columns)\n",
    "\n",
    "var_lst = []\n",
    "for ele in clm_lst:\n",
    "    var_lst.append(variance(binary_features[ele]))\n",
    "    \n",
    "var_df = pd.DataFrame()\n",
    "var_df['feature'] = clm_lst\n",
    "var_df['variance'] = var_lst\n",
    "\n",
    "var_df.head()"
   ]
  },
  {
   "cell_type": "code",
   "execution_count": 8,
   "id": "41d107c7",
   "metadata": {},
   "outputs": [
    {
     "data": {
      "text/html": [
       "<div>\n",
       "<style scoped>\n",
       "    .dataframe tbody tr th:only-of-type {\n",
       "        vertical-align: middle;\n",
       "    }\n",
       "\n",
       "    .dataframe tbody tr th {\n",
       "        vertical-align: top;\n",
       "    }\n",
       "\n",
       "    .dataframe thead th {\n",
       "        text-align: right;\n",
       "    }\n",
       "</style>\n",
       "<table border=\"1\" class=\"dataframe\">\n",
       "  <thead>\n",
       "    <tr style=\"text-align: right;\">\n",
       "      <th></th>\n",
       "      <th>feature</th>\n",
       "      <th>variance</th>\n",
       "    </tr>\n",
       "  </thead>\n",
       "  <tbody>\n",
       "    <tr>\n",
       "      <th>0</th>\n",
       "      <td>X10</td>\n",
       "      <td>0.013156</td>\n",
       "    </tr>\n",
       "    <tr>\n",
       "      <th>1</th>\n",
       "      <td>X11</td>\n",
       "      <td>0.000000</td>\n",
       "    </tr>\n",
       "    <tr>\n",
       "      <th>2</th>\n",
       "      <td>X12</td>\n",
       "      <td>0.068971</td>\n",
       "    </tr>\n",
       "    <tr>\n",
       "      <th>3</th>\n",
       "      <td>X13</td>\n",
       "      <td>0.054510</td>\n",
       "    </tr>\n",
       "    <tr>\n",
       "      <th>4</th>\n",
       "      <td>X14</td>\n",
       "      <td>0.244908</td>\n",
       "    </tr>\n",
       "    <tr>\n",
       "      <th>...</th>\n",
       "      <td>...</td>\n",
       "      <td>...</td>\n",
       "    </tr>\n",
       "    <tr>\n",
       "      <th>363</th>\n",
       "      <td>X380</td>\n",
       "      <td>0.008030</td>\n",
       "    </tr>\n",
       "    <tr>\n",
       "      <th>364</th>\n",
       "      <td>X382</td>\n",
       "      <td>0.007561</td>\n",
       "    </tr>\n",
       "    <tr>\n",
       "      <th>365</th>\n",
       "      <td>X383</td>\n",
       "      <td>0.001664</td>\n",
       "    </tr>\n",
       "    <tr>\n",
       "      <th>366</th>\n",
       "      <td>X384</td>\n",
       "      <td>0.000476</td>\n",
       "    </tr>\n",
       "    <tr>\n",
       "      <th>367</th>\n",
       "      <td>X385</td>\n",
       "      <td>0.001427</td>\n",
       "    </tr>\n",
       "  </tbody>\n",
       "</table>\n",
       "<p>368 rows × 2 columns</p>\n",
       "</div>"
      ],
      "text/plain": [
       "    feature  variance\n",
       "0       X10  0.013156\n",
       "1       X11  0.000000\n",
       "2       X12  0.068971\n",
       "3       X13  0.054510\n",
       "4       X14  0.244908\n",
       "..      ...       ...\n",
       "363    X380  0.008030\n",
       "364    X382  0.007561\n",
       "365    X383  0.001664\n",
       "366    X384  0.000476\n",
       "367    X385  0.001427\n",
       "\n",
       "[368 rows x 2 columns]"
      ]
     },
     "execution_count": 8,
     "metadata": {},
     "output_type": "execute_result"
    }
   ],
   "source": [
    "var_df"
   ]
  },
  {
   "cell_type": "markdown",
   "id": "edb973c1",
   "metadata": {},
   "source": [
    "Plotting scatter plot of above dataframe"
   ]
  },
  {
   "cell_type": "code",
   "execution_count": 33,
   "id": "173f7b2a",
   "metadata": {},
   "outputs": [
    {
     "data": {
      "image/png": "[encoded data removed]",
      "text/plain": [
       "<Figure size 432x288 with 1 Axes>"
      ]
     },
     "metadata": {
      "needs_background": "light"
     },
     "output_type": "display_data"
    }
   ],
   "source": [
    "plt.scatter(var_df['feature'], var_df['variance'])\n",
    "plt.xlabel('Binary Features')\n",
    "plt.ylabel('Variance')\n",
    "plt.show()"
   ]
  },
  {
   "cell_type": "markdown",
   "id": "e57b4462",
   "metadata": {},
   "source": [
    "From above scatter plot we will see that many features have zero variance and some points are overlapping means having same variance. And that is not good for predictions. So will remove those features. "
   ]
  },
  {
   "cell_type": "markdown",
   "id": "ba180fd1",
   "metadata": {},
   "source": [
    "#### Removing Features having Zero variance "
   ]
  },
  {
   "cell_type": "code",
   "execution_count": 9,
   "id": "b03d607d",
   "metadata": {},
   "outputs": [],
   "source": [
    "ftr_zero_var = []\n",
    "for i in range(var_df.shape[0]):\n",
    "    if var_df['variance'][i] == 0:\n",
    "        ftr_zero_var.append(var_df['feature'][i])"
   ]
  },
  {
   "cell_type": "code",
   "execution_count": 9,
   "id": "1ec4362d",
   "metadata": {},
   "outputs": [
    {
     "data": {
      "text/plain": [
       "['FeatureZeroVar.pkl']"
      ]
     },
     "execution_count": 9,
     "metadata": {},
     "output_type": "execute_result"
    }
   ],
   "source": [
    "joblib.dump(ftr_zero_var, 'FeatureZeroVar.pkl')"
   ]
  },
  {
   "cell_type": "code",
   "execution_count": 11,
   "id": "c5c48d55",
   "metadata": {},
   "outputs": [],
   "source": [
    "train_data = train_data.drop(columns = ftr_zero_var)\n",
    "\n",
    "test_data = test_data.drop(columns = ftr_zero_var)"
   ]
  },
  {
   "cell_type": "code",
   "execution_count": 12,
   "id": "7fc2b7d4",
   "metadata": {},
   "outputs": [
    {
     "name": "stdout",
     "output_type": "stream",
     "text": [
      "(4201, 364)\n",
      "(4209, 363)\n"
     ]
    }
   ],
   "source": [
    "print(train_data.shape)\n",
    "print(test_data.shape)"
   ]
  },
  {
   "cell_type": "markdown",
   "id": "39bb3736",
   "metadata": {},
   "source": [
    "#### Removing Features having Same variance "
   ]
  },
  {
   "cell_type": "code",
   "execution_count": 11,
   "id": "7db2ed6f",
   "metadata": {},
   "outputs": [],
   "source": [
    "index_zero_var = var_df.index[var_df['variance'] == 0].tolist()\n",
    "var_df_upd = var_df.drop(index_zero_var, axis = 0).reset_index(drop = True)\n",
    "\n",
    "ftr_same_var = []\n",
    "for i in range(var_df_upd.shape[0]):\n",
    "    for j in range(var_df_upd.shape[0]):\n",
    "        if var_df_upd['feature'][i] == var_df_upd['feature'][j]:\n",
    "            continue\n",
    "        elif var_df_upd['variance'][i] == var_df_upd['variance'][j]:\n",
    "            if var_df_upd['feature'][i] not in ftr_same_var:\n",
    "                ftr_same_var.append(var_df_upd['feature'][i])\n",
    "            elif var_df_upd['feature'][j] not in ftr_same_var:\n",
    "                ftr_same_var.append(var_df_upd['feature'][j])\n",
    "        else:\n",
    "            continue "
   ]
  },
  {
   "cell_type": "code",
   "execution_count": 14,
   "id": "338aaf88",
   "metadata": {},
   "outputs": [
    {
     "data": {
      "text/plain": [
       "['FeatureSameVar.pkl']"
      ]
     },
     "execution_count": 14,
     "metadata": {},
     "output_type": "execute_result"
    }
   ],
   "source": [
    "joblib.dump(ftr_same_var, 'FeatureSameVar.pkl')"
   ]
  },
  {
   "cell_type": "code",
   "execution_count": 42,
   "id": "ae9c4da5",
   "metadata": {},
   "outputs": [],
   "source": [
    "train_data = train_data.drop(columns = ftr_same_var)\n",
    "\n",
    "test_data = test_data.drop(columns = ftr_same_var)"
   ]
  },
  {
   "cell_type": "code",
   "execution_count": 43,
   "id": "30800dd1",
   "metadata": {},
   "outputs": [
    {
     "name": "stdout",
     "output_type": "stream",
     "text": [
      "(4201, 167)\n",
      "(4209, 166)\n"
     ]
    }
   ],
   "source": [
    "print(train_data.shape)\n",
    "print(test_data.shape)"
   ]
  },
  {
   "cell_type": "markdown",
   "id": "02b7ec9d",
   "metadata": {},
   "source": [
    "After removing features with zero and same variance dimension of dataset reduced and that is good for modelling."
   ]
  },
  {
   "cell_type": "markdown",
   "id": "50c2826e",
   "metadata": {},
   "source": [
    "#### Finding out top 10 Binary features"
   ]
  },
  {
   "cell_type": "code",
   "execution_count": 44,
   "id": "9847f72c",
   "metadata": {},
   "outputs": [
    {
     "data": {
      "text/plain": [
       "RandomForestRegressor()"
      ]
     },
     "execution_count": 44,
     "metadata": {},
     "output_type": "execute_result"
    }
   ],
   "source": [
    "binary_features = train_data.drop(columns = ['ID', 'y', 'X0', 'X1', 'X2', 'X3', 'X5', 'X6', 'X8'])\n",
    "labels = train_data['y']\n",
    "\n",
    "rfr = RandomForestRegressor()\n",
    "rfr.fit(binary_features, labels)"
   ]
  },
  {
   "cell_type": "code",
   "execution_count": 45,
   "id": "8e35032a",
   "metadata": {},
   "outputs": [
    {
     "data": {
      "text/html": [
       "<div>\n",
       "<style scoped>\n",
       "    .dataframe tbody tr th:only-of-type {\n",
       "        vertical-align: middle;\n",
       "    }\n",
       "\n",
       "    .dataframe tbody tr th {\n",
       "        vertical-align: top;\n",
       "    }\n",
       "\n",
       "    .dataframe thead th {\n",
       "        text-align: right;\n",
       "    }\n",
       "</style>\n",
       "<table border=\"1\" class=\"dataframe\">\n",
       "  <thead>\n",
       "    <tr style=\"text-align: right;\">\n",
       "      <th></th>\n",
       "      <th>Features</th>\n",
       "      <th>Importance</th>\n",
       "    </tr>\n",
       "  </thead>\n",
       "  <tbody>\n",
       "    <tr>\n",
       "      <th>148</th>\n",
       "      <td>X127</td>\n",
       "      <td>0.006979</td>\n",
       "    </tr>\n",
       "    <tr>\n",
       "      <th>149</th>\n",
       "      <td>X51</td>\n",
       "      <td>0.007568</td>\n",
       "    </tr>\n",
       "    <tr>\n",
       "      <th>150</th>\n",
       "      <td>X137</td>\n",
       "      <td>0.007878</td>\n",
       "    </tr>\n",
       "    <tr>\n",
       "      <th>151</th>\n",
       "      <td>X64</td>\n",
       "      <td>0.008253</td>\n",
       "    </tr>\n",
       "    <tr>\n",
       "      <th>152</th>\n",
       "      <td>X46</td>\n",
       "      <td>0.009892</td>\n",
       "    </tr>\n",
       "    <tr>\n",
       "      <th>153</th>\n",
       "      <td>X117</td>\n",
       "      <td>0.012723</td>\n",
       "    </tr>\n",
       "    <tr>\n",
       "      <th>154</th>\n",
       "      <td>X115</td>\n",
       "      <td>0.054603</td>\n",
       "    </tr>\n",
       "    <tr>\n",
       "      <th>155</th>\n",
       "      <td>X189</td>\n",
       "      <td>0.081120</td>\n",
       "    </tr>\n",
       "    <tr>\n",
       "      <th>156</th>\n",
       "      <td>X315</td>\n",
       "      <td>0.088211</td>\n",
       "    </tr>\n",
       "    <tr>\n",
       "      <th>157</th>\n",
       "      <td>X314</td>\n",
       "      <td>0.452790</td>\n",
       "    </tr>\n",
       "  </tbody>\n",
       "</table>\n",
       "</div>"
      ],
      "text/plain": [
       "    Features  Importance\n",
       "148     X127    0.006979\n",
       "149      X51    0.007568\n",
       "150     X137    0.007878\n",
       "151      X64    0.008253\n",
       "152      X46    0.009892\n",
       "153     X117    0.012723\n",
       "154     X115    0.054603\n",
       "155     X189    0.081120\n",
       "156     X315    0.088211\n",
       "157     X314    0.452790"
      ]
     },
     "execution_count": 45,
     "metadata": {},
     "output_type": "execute_result"
    }
   ],
   "source": [
    "ftr_imp_bin = list(rfr.feature_importances_)\n",
    "ftr_name_bin = list(binary_features.columns)\n",
    "ftr_imp_dict = {ftr_name_bin[i]: ftr_imp_bin[i] for i in range(len(ftr_name_bin))}\n",
    "ftr_imp_dict_sorted = dict(sorted(ftr_imp_dict.items(), key=lambda item: item[1]))\n",
    "\n",
    "ftr_imp_df = pd.DataFrame(list(ftr_imp_dict_sorted.items()), columns = ['Features', 'Importance'])\n",
    "\n",
    "ftr_imp_df.tail(10)"
   ]
  },
  {
   "cell_type": "markdown",
   "id": "a397d5f7",
   "metadata": {},
   "source": [
    "Above, using RandomForest we found out top 10 binary features. We will plot boxplot of them for analysis."
   ]
  },
  {
   "cell_type": "code",
   "execution_count": 46,
   "id": "41978ab6",
   "metadata": {},
   "outputs": [
    {
     "data": {
      "text/plain": [
       "<AxesSubplot:xlabel='X51', ylabel='y'>"
      ]
     },
     "execution_count": 46,
     "metadata": {},
     "output_type": "execute_result"
    },
    {
     "data": {
      "image/png": "[encoded data removed]",
      "text/plain": [
       "<Figure size 1440x1440 with 10 Axes>"
      ]
     },
     "metadata": {
      "needs_background": "light"
     },
     "output_type": "display_data"
    }
   ],
   "source": [
    "fig, ax = plt.subplots(5, 2, figsize=(20, 20))\n",
    "sns.boxplot( x = 'X314',y = 'y', data = train_data, ax = ax[0, 0])\n",
    "sns.boxplot( x = 'X315',y = 'y', data = train_data, ax = ax[0, 1])\n",
    "sns.boxplot( x = 'X189',y = 'y', data = train_data, ax = ax[1, 0])\n",
    "sns.boxplot( x = 'X115',y = 'y', data = train_data, ax = ax[1, 1])\n",
    "sns.boxplot( x = 'X275',y = 'y', data = train_data, ax = ax[2, 0])\n",
    "sns.boxplot( x = 'X137',y = 'y', data = train_data, ax = ax[2, 1])\n",
    "sns.boxplot( x = 'X117',y = 'y', data = train_data, ax = ax[3, 0])\n",
    "sns.boxplot( x = 'X100',y = 'y', data = train_data, ax = ax[3, 1])\n",
    "sns.boxplot( x = 'X46',y = 'y', data = train_data, ax = ax[4, 0])\n",
    "sns.boxplot( x = 'X51',y = 'y', data = train_data, ax = ax[4, 1])"
   ]
  },
  {
   "cell_type": "markdown",
   "id": "5bd34e41",
   "metadata": {},
   "source": [
    "From above plots we can see that these features are well distributed and add values while prediction time comes."
   ]
  },
  {
   "cell_type": "code",
   "execution_count": 47,
   "id": "d8b306eb",
   "metadata": {},
   "outputs": [],
   "source": [
    "train_data.to_csv('final_train.csv')\n",
    "test_data.to_csv('final_test.csv')"
   ]
  }
 ],
 "metadata": {
  "kernelspec": {
   "display_name": "Python 3 (ipykernel)",
   "language": "python",
   "name": "python3"
  },
  "language_info": {
   "codemirror_mode": {
    "name": "ipython",
    "version": 3
   },
   "file_extension": ".py",
   "mimetype": "text/x-python",
   "name": "python",
   "nbconvert_exporter": "python",
   "pygments_lexer": "ipython3",
   "version": "3.9.7"
  }
 },
 "nbformat": 4,
 "nbformat_minor": 5
}
