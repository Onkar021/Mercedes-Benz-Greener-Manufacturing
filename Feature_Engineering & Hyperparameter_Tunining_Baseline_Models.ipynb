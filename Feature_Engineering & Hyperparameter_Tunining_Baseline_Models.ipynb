{
 "cells": [
  {
   "cell_type": "markdown",
   "id": "799dd9ca",
   "metadata": {},
   "source": [
    "### Importing Libraries "
   ]
  },
  {
   "cell_type": "code",
   "execution_count": 1,
   "id": "a653e380",
   "metadata": {},
   "outputs": [],
   "source": [
    "import numpy as np\n",
    "import pandas as pd\n",
    "import scipy.stats as stats\n",
    "import seaborn as sns\n",
    "import operator\n",
    "import matplotlib.pyplot as plt\n",
    "from statistics import variance\n",
    "from sklearn.preprocessing import LabelEncoder\n",
    "from sklearn.preprocessing import OrdinalEncoder\n",
    "from sklearn.ensemble import RandomForestRegressor\n",
    "from sklearn.decomposition import PCA, FastICA\n",
    "from sklearn.model_selection import train_test_split\n",
    "from sklearn.decomposition import TruncatedSVD\n",
    "from sklearn.random_projection import GaussianRandomProjection\n",
    "from sklearn.preprocessing import PolynomialFeatures\n",
    "from sklearn.model_selection import train_test_split\n",
    "from sklearn.model_selection import RandomizedSearchCV\n",
    "from sklearn.linear_model import LinearRegression\n",
    "from sklearn.tree import DecisionTreeRegressor\n",
    "from sklearn.ensemble import RandomForestRegressor\n",
    "from xgboost import XGBRegressor\n",
    "from sklearn.base import BaseEstimator, TransformerMixin, RegressorMixin, clone\n",
    "from sklearn.metrics import r2_score\n",
    "from prettytable import PrettyTable\n",
    "from joblib import Parallel, delayed\n",
    "import joblib\n",
    "\n",
    "\n",
    "import warnings\n",
    "warnings.filterwarnings(\"ignore\")"
   ]
  },
  {
   "cell_type": "markdown",
   "id": "ed3e6f94",
   "metadata": {},
   "source": [
    "### Data Loading after EDA "
   ]
  },
  {
   "cell_type": "code",
   "execution_count": 2,
   "id": "38c09f61",
   "metadata": {},
   "outputs": [],
   "source": [
    "train = pd.read_csv('final_train.csv').drop(columns = ['Unnamed: 0'])\n",
    "test = pd.read_csv('final_test.csv').drop(columns = ['Unnamed: 0'])"
   ]
  },
  {
   "cell_type": "code",
   "execution_count": 12,
   "id": "1edac0fc",
   "metadata": {},
   "outputs": [
    {
     "name": "stdout",
     "output_type": "stream",
     "text": [
      "(4201, 167)\n",
      "(4209, 166)\n"
     ]
    }
   ],
   "source": [
    "print(train.shape)\n",
    "print(test.shape)"
   ]
  },
  {
   "cell_type": "code",
   "execution_count": 3,
   "id": "39b1b88f",
   "metadata": {},
   "outputs": [
    {
     "data": {
      "text/html": [
       "<div>\n",
       "<style scoped>\n",
       "    .dataframe tbody tr th:only-of-type {\n",
       "        vertical-align: middle;\n",
       "    }\n",
       "\n",
       "    .dataframe tbody tr th {\n",
       "        vertical-align: top;\n",
       "    }\n",
       "\n",
       "    .dataframe thead th {\n",
       "        text-align: right;\n",
       "    }\n",
       "</style>\n",
       "<table border=\"1\" class=\"dataframe\">\n",
       "  <thead>\n",
       "    <tr style=\"text-align: right;\">\n",
       "      <th></th>\n",
       "      <th>ID</th>\n",
       "      <th>y</th>\n",
       "      <th>X0</th>\n",
       "      <th>X1</th>\n",
       "      <th>X2</th>\n",
       "      <th>X3</th>\n",
       "      <th>X5</th>\n",
       "      <th>X6</th>\n",
       "      <th>X8</th>\n",
       "      <th>X12</th>\n",
       "      <th>...</th>\n",
       "      <th>X359</th>\n",
       "      <th>X361</th>\n",
       "      <th>X362</th>\n",
       "      <th>X363</th>\n",
       "      <th>X367</th>\n",
       "      <th>X368</th>\n",
       "      <th>X374</th>\n",
       "      <th>X375</th>\n",
       "      <th>X376</th>\n",
       "      <th>X377</th>\n",
       "    </tr>\n",
       "  </thead>\n",
       "  <tbody>\n",
       "    <tr>\n",
       "      <th>0</th>\n",
       "      <td>0</td>\n",
       "      <td>130.81</td>\n",
       "      <td>k</td>\n",
       "      <td>v</td>\n",
       "      <td>at</td>\n",
       "      <td>a</td>\n",
       "      <td>u</td>\n",
       "      <td>j</td>\n",
       "      <td>o</td>\n",
       "      <td>0</td>\n",
       "      <td>...</td>\n",
       "      <td>0</td>\n",
       "      <td>1</td>\n",
       "      <td>0</td>\n",
       "      <td>0</td>\n",
       "      <td>0</td>\n",
       "      <td>0</td>\n",
       "      <td>0</td>\n",
       "      <td>0</td>\n",
       "      <td>0</td>\n",
       "      <td>1</td>\n",
       "    </tr>\n",
       "    <tr>\n",
       "      <th>1</th>\n",
       "      <td>6</td>\n",
       "      <td>88.53</td>\n",
       "      <td>k</td>\n",
       "      <td>t</td>\n",
       "      <td>av</td>\n",
       "      <td>e</td>\n",
       "      <td>y</td>\n",
       "      <td>l</td>\n",
       "      <td>o</td>\n",
       "      <td>0</td>\n",
       "      <td>...</td>\n",
       "      <td>0</td>\n",
       "      <td>1</td>\n",
       "      <td>0</td>\n",
       "      <td>1</td>\n",
       "      <td>0</td>\n",
       "      <td>0</td>\n",
       "      <td>0</td>\n",
       "      <td>1</td>\n",
       "      <td>0</td>\n",
       "      <td>0</td>\n",
       "    </tr>\n",
       "    <tr>\n",
       "      <th>2</th>\n",
       "      <td>7</td>\n",
       "      <td>76.26</td>\n",
       "      <td>az</td>\n",
       "      <td>w</td>\n",
       "      <td>n</td>\n",
       "      <td>c</td>\n",
       "      <td>x</td>\n",
       "      <td>j</td>\n",
       "      <td>x</td>\n",
       "      <td>0</td>\n",
       "      <td>...</td>\n",
       "      <td>0</td>\n",
       "      <td>1</td>\n",
       "      <td>0</td>\n",
       "      <td>1</td>\n",
       "      <td>0</td>\n",
       "      <td>0</td>\n",
       "      <td>0</td>\n",
       "      <td>0</td>\n",
       "      <td>0</td>\n",
       "      <td>0</td>\n",
       "    </tr>\n",
       "    <tr>\n",
       "      <th>3</th>\n",
       "      <td>9</td>\n",
       "      <td>80.62</td>\n",
       "      <td>az</td>\n",
       "      <td>t</td>\n",
       "      <td>n</td>\n",
       "      <td>f</td>\n",
       "      <td>x</td>\n",
       "      <td>l</td>\n",
       "      <td>e</td>\n",
       "      <td>0</td>\n",
       "      <td>...</td>\n",
       "      <td>0</td>\n",
       "      <td>1</td>\n",
       "      <td>0</td>\n",
       "      <td>1</td>\n",
       "      <td>0</td>\n",
       "      <td>0</td>\n",
       "      <td>0</td>\n",
       "      <td>0</td>\n",
       "      <td>0</td>\n",
       "      <td>0</td>\n",
       "    </tr>\n",
       "    <tr>\n",
       "      <th>4</th>\n",
       "      <td>13</td>\n",
       "      <td>78.02</td>\n",
       "      <td>az</td>\n",
       "      <td>v</td>\n",
       "      <td>n</td>\n",
       "      <td>f</td>\n",
       "      <td>h</td>\n",
       "      <td>d</td>\n",
       "      <td>n</td>\n",
       "      <td>0</td>\n",
       "      <td>...</td>\n",
       "      <td>0</td>\n",
       "      <td>1</td>\n",
       "      <td>0</td>\n",
       "      <td>1</td>\n",
       "      <td>0</td>\n",
       "      <td>0</td>\n",
       "      <td>0</td>\n",
       "      <td>0</td>\n",
       "      <td>0</td>\n",
       "      <td>0</td>\n",
       "    </tr>\n",
       "  </tbody>\n",
       "</table>\n",
       "<p>5 rows × 167 columns</p>\n",
       "</div>"
      ],
      "text/plain": [
       "   ID       y  X0 X1  X2 X3 X5 X6 X8  X12  ...  X359  X361  X362  X363  X367  \\\n",
       "0   0  130.81   k  v  at  a  u  j  o    0  ...     0     1     0     0     0   \n",
       "1   6   88.53   k  t  av  e  y  l  o    0  ...     0     1     0     1     0   \n",
       "2   7   76.26  az  w   n  c  x  j  x    0  ...     0     1     0     1     0   \n",
       "3   9   80.62  az  t   n  f  x  l  e    0  ...     0     1     0     1     0   \n",
       "4  13   78.02  az  v   n  f  h  d  n    0  ...     0     1     0     1     0   \n",
       "\n",
       "   X368  X374  X375  X376  X377  \n",
       "0     0     0     0     0     1  \n",
       "1     0     0     1     0     0  \n",
       "2     0     0     0     0     0  \n",
       "3     0     0     0     0     0  \n",
       "4     0     0     0     0     0  \n",
       "\n",
       "[5 rows x 167 columns]"
      ]
     },
     "execution_count": 3,
     "metadata": {},
     "output_type": "execute_result"
    }
   ],
   "source": [
    "train.head()"
   ]
  },
  {
   "cell_type": "markdown",
   "id": "0146495d",
   "metadata": {},
   "source": [
    "### Encoding for Categorical Variables"
   ]
  },
  {
   "cell_type": "code",
   "execution_count": 4,
   "id": "961bd388",
   "metadata": {},
   "outputs": [],
   "source": [
    "def encoding_categorical(data):\n",
    "    \n",
    "    le = LabelEncoder()\n",
    "    data_le = le.fit_transform(data)\n",
    "    \n",
    "    return data_le"
   ]
  },
  {
   "cell_type": "code",
   "execution_count": 5,
   "id": "2c36d48a",
   "metadata": {},
   "outputs": [],
   "source": [
    "categorical_features = ['X0', 'X1', 'X2', 'X3', 'X5', 'X6', 'X8']"
   ]
  },
  {
   "cell_type": "code",
   "execution_count": 6,
   "id": "daad2595",
   "metadata": {},
   "outputs": [],
   "source": [
    "catg_train = train[categorical_features]\n",
    "catg_test = test[categorical_features]"
   ]
  },
  {
   "cell_type": "code",
   "execution_count": 7,
   "id": "65d5340b",
   "metadata": {},
   "outputs": [],
   "source": [
    "train_catg_encoded = pd.DataFrame()\n",
    "\n",
    "for feature in categorical_features:\n",
    "    train_catg_encoded[feature] = encoding_categorical(catg_train[feature])   "
   ]
  },
  {
   "cell_type": "code",
   "execution_count": 8,
   "id": "8e648527",
   "metadata": {},
   "outputs": [],
   "source": [
    "test_catg_encoded = pd.DataFrame()\n",
    "\n",
    "for feature in categorical_features:\n",
    "    test_catg_encoded[feature] = encoding_categorical(catg_test[feature]) "
   ]
  },
  {
   "cell_type": "code",
   "execution_count": 9,
   "id": "8766a230",
   "metadata": {},
   "outputs": [
    {
     "data": {
      "text/html": [
       "<div>\n",
       "<style scoped>\n",
       "    .dataframe tbody tr th:only-of-type {\n",
       "        vertical-align: middle;\n",
       "    }\n",
       "\n",
       "    .dataframe tbody tr th {\n",
       "        vertical-align: top;\n",
       "    }\n",
       "\n",
       "    .dataframe thead th {\n",
       "        text-align: right;\n",
       "    }\n",
       "</style>\n",
       "<table border=\"1\" class=\"dataframe\">\n",
       "  <thead>\n",
       "    <tr style=\"text-align: right;\">\n",
       "      <th></th>\n",
       "      <th>X0</th>\n",
       "      <th>X1</th>\n",
       "      <th>X2</th>\n",
       "      <th>X3</th>\n",
       "      <th>X5</th>\n",
       "      <th>X6</th>\n",
       "      <th>X8</th>\n",
       "    </tr>\n",
       "  </thead>\n",
       "  <tbody>\n",
       "    <tr>\n",
       "      <th>0</th>\n",
       "      <td>32</td>\n",
       "      <td>23</td>\n",
       "      <td>17</td>\n",
       "      <td>0</td>\n",
       "      <td>24</td>\n",
       "      <td>9</td>\n",
       "      <td>14</td>\n",
       "    </tr>\n",
       "    <tr>\n",
       "      <th>1</th>\n",
       "      <td>32</td>\n",
       "      <td>21</td>\n",
       "      <td>19</td>\n",
       "      <td>4</td>\n",
       "      <td>28</td>\n",
       "      <td>11</td>\n",
       "      <td>14</td>\n",
       "    </tr>\n",
       "    <tr>\n",
       "      <th>2</th>\n",
       "      <td>20</td>\n",
       "      <td>24</td>\n",
       "      <td>34</td>\n",
       "      <td>2</td>\n",
       "      <td>27</td>\n",
       "      <td>9</td>\n",
       "      <td>23</td>\n",
       "    </tr>\n",
       "    <tr>\n",
       "      <th>3</th>\n",
       "      <td>20</td>\n",
       "      <td>21</td>\n",
       "      <td>34</td>\n",
       "      <td>5</td>\n",
       "      <td>27</td>\n",
       "      <td>11</td>\n",
       "      <td>4</td>\n",
       "    </tr>\n",
       "    <tr>\n",
       "      <th>4</th>\n",
       "      <td>20</td>\n",
       "      <td>23</td>\n",
       "      <td>34</td>\n",
       "      <td>5</td>\n",
       "      <td>12</td>\n",
       "      <td>3</td>\n",
       "      <td>13</td>\n",
       "    </tr>\n",
       "  </tbody>\n",
       "</table>\n",
       "</div>"
      ],
      "text/plain": [
       "   X0  X1  X2  X3  X5  X6  X8\n",
       "0  32  23  17   0  24   9  14\n",
       "1  32  21  19   4  28  11  14\n",
       "2  20  24  34   2  27   9  23\n",
       "3  20  21  34   5  27  11   4\n",
       "4  20  23  34   5  12   3  13"
      ]
     },
     "execution_count": 9,
     "metadata": {},
     "output_type": "execute_result"
    }
   ],
   "source": [
    "train_catg_encoded.head()"
   ]
  },
  {
   "cell_type": "markdown",
   "id": "0d582351",
   "metadata": {},
   "source": [
    "### PCA for Binary Features "
   ]
  },
  {
   "cell_type": "code",
   "execution_count": 19,
   "id": "4d9d52ae",
   "metadata": {},
   "outputs": [],
   "source": [
    "train_binary = train.drop(columns = ['X0', 'X1', 'X2', 'X3', 'X5', 'X6', 'X8', 'ID', 'y'])\n",
    "test_binary = test.drop(columns = ['X0', 'X1', 'X2', 'X3', 'X5', 'X6', 'X8', 'ID'])"
   ]
  },
  {
   "cell_type": "code",
   "execution_count": 20,
   "id": "0fb2e5ae",
   "metadata": {},
   "outputs": [
    {
     "name": "stdout",
     "output_type": "stream",
     "text": [
      "(4201, 158)\n",
      "(4209, 158)\n"
     ]
    }
   ],
   "source": [
    "pca = PCA()\n",
    "pca.fit(train_binary)\n",
    "\n",
    "pca_train_binary = pca.transform(train_binary)\n",
    "pca_test_binary = pca.transform(test_binary)\n",
    "\n",
    "print(pca_train_binary.shape)\n",
    "print(pca_test_binary.shape)"
   ]
  },
  {
   "cell_type": "code",
   "execution_count": 21,
   "id": "b36ab1ce",
   "metadata": {},
   "outputs": [
    {
     "data": {
      "text/plain": [
       "['PCA.pkl']"
      ]
     },
     "execution_count": 21,
     "metadata": {},
     "output_type": "execute_result"
    }
   ],
   "source": [
    "joblib.dump(pca, 'PCA.pkl')"
   ]
  },
  {
   "cell_type": "markdown",
   "id": "8d500354",
   "metadata": {},
   "source": [
    "##### variance proportioon plot (PCA) "
   ]
  },
  {
   "cell_type": "code",
   "execution_count": 22,
   "id": "361b2091",
   "metadata": {},
   "outputs": [
    {
     "data": {
      "text/plain": [
       "Text(0, 0.5, 'cumulative explained variance')"
      ]
     },
     "execution_count": 22,
     "metadata": {},
     "output_type": "execute_result"
    },
    {
     "data": {
      "image/png": "[encoded data removed]",
      "text/plain": [
       "<Figure size 432x288 with 1 Axes>"
      ]
     },
     "metadata": {
      "needs_background": "light"
     },
     "output_type": "display_data"
    }
   ],
   "source": [
    "plt.plot(pca.explained_variance_ratio_.cumsum())\n",
    "plt.xlabel('number of components')\n",
    "plt.ylabel('cumulative explained variance')"
   ]
  },
  {
   "cell_type": "markdown",
   "id": "932388e6",
   "metadata": {},
   "source": [
    "By seeing above plot we can say 100 components are explaining all the variance in the dataset."
   ]
  },
  {
   "cell_type": "code",
   "execution_count": 65,
   "id": "faa5ef0f",
   "metadata": {},
   "outputs": [],
   "source": [
    "pca_train_binary_df = pd.DataFrame (pca_train_binary)\n",
    "pca_train_binary_df = pca_train_binary_df[range(0, 100)]"
   ]
  },
  {
   "cell_type": "code",
   "execution_count": 24,
   "id": "833b3efd",
   "metadata": {},
   "outputs": [
    {
     "data": {
      "image/png": "[encoded data removed]",
      "text/plain": [
       "<Figure size 432x288 with 1 Axes>"
      ]
     },
     "metadata": {
      "needs_background": "light"
     },
     "output_type": "display_data"
    }
   ],
   "source": [
    "#pca_train_binary_df = pd.DataFrame (pca_train_binary)\n",
    "pca_var = []\n",
    "\n",
    "for feature in pca_train_binary_df.columns:\n",
    "    pca_var.append(variance(pca_train_binary_df[feature]))\n",
    "\n",
    "plt.plot(pca_train_binary_df.columns, pca_var)\n",
    "plt.xlabel('Feature')\n",
    "plt.ylabel('Variance')\n",
    "plt.show()    "
   ]
  },
  {
   "cell_type": "markdown",
   "id": "12f3f0e2",
   "metadata": {},
   "source": [
    "### SVD for Binary Features"
   ]
  },
  {
   "cell_type": "code",
   "execution_count": 25,
   "id": "49104b5b",
   "metadata": {},
   "outputs": [
    {
     "name": "stdout",
     "output_type": "stream",
     "text": [
      "(4201, 157)\n",
      "(4209, 157)\n"
     ]
    }
   ],
   "source": [
    "svd = TruncatedSVD(n_components = 157)\n",
    "svd.fit(train_binary)\n",
    "\n",
    "svd_train_binary = svd.transform(train_binary)\n",
    "svd_test_binary = svd.transform(test_binary)\n",
    "\n",
    "print(svd_train_binary.shape)\n",
    "print(svd_test_binary.shape)"
   ]
  },
  {
   "cell_type": "code",
   "execution_count": 26,
   "id": "607b6256",
   "metadata": {},
   "outputs": [
    {
     "data": {
      "text/plain": [
       "['SVD.pkl']"
      ]
     },
     "execution_count": 26,
     "metadata": {},
     "output_type": "execute_result"
    }
   ],
   "source": [
    "joblib.dump(svd, 'SVD.pkl')"
   ]
  },
  {
   "cell_type": "markdown",
   "id": "22c075a0",
   "metadata": {},
   "source": [
    "##### variance proportioon plot (SVD) "
   ]
  },
  {
   "cell_type": "code",
   "execution_count": 27,
   "id": "9eb1e09c",
   "metadata": {},
   "outputs": [
    {
     "data": {
      "text/plain": [
       "Text(0, 0.5, 'cumulative explained variance')"
      ]
     },
     "execution_count": 27,
     "metadata": {},
     "output_type": "execute_result"
    },
    {
     "data": {
      "image/png": "[encoded data removed]",
      "text/plain": [
       "<Figure size 432x288 with 1 Axes>"
      ]
     },
     "metadata": {
      "needs_background": "light"
     },
     "output_type": "display_data"
    }
   ],
   "source": [
    "plt.plot(svd.explained_variance_ratio_.cumsum())\n",
    "plt.xlabel('number of components')\n",
    "plt.ylabel('cumulative explained variance')"
   ]
  },
  {
   "cell_type": "markdown",
   "id": "f9642342",
   "metadata": {},
   "source": [
    "By seeing above plot we can say 100 components are explaining all the variance in the dataset."
   ]
  },
  {
   "cell_type": "code",
   "execution_count": 66,
   "id": "618d384b",
   "metadata": {},
   "outputs": [],
   "source": [
    "svd_train_binary_df = pd.DataFrame (svd_train_binary)\n",
    "svd_train_binary_df = svd_train_binary_df[range(0, 100)]"
   ]
  },
  {
   "cell_type": "code",
   "execution_count": 29,
   "id": "afeb26a8",
   "metadata": {},
   "outputs": [
    {
     "data": {
      "image/png": "[encoded data removed]",
      "text/plain": [
       "<Figure size 432x288 with 1 Axes>"
      ]
     },
     "metadata": {
      "needs_background": "light"
     },
     "output_type": "display_data"
    }
   ],
   "source": [
    "#svd_train_binary_df = pd.DataFrame (svd_train_binary)\n",
    "svd_var = []\n",
    "\n",
    "for feature in svd_train_binary_df.columns:\n",
    "    svd_var.append(variance(svd_train_binary_df[feature]))\n",
    "\n",
    "plt.plot(svd_train_binary_df.columns, svd_var)\n",
    "plt.xlabel('Feature')\n",
    "plt.ylabel('Variance')\n",
    "plt.show()    "
   ]
  },
  {
   "cell_type": "markdown",
   "id": "eb73ce94",
   "metadata": {},
   "source": [
    "### Gausian Random Projection for Binary Features "
   ]
  },
  {
   "cell_type": "code",
   "execution_count": 30,
   "id": "c1942004",
   "metadata": {},
   "outputs": [
    {
     "data": {
      "text/plain": [
       "206"
      ]
     },
     "execution_count": 30,
     "metadata": {},
     "output_type": "execute_result"
    }
   ],
   "source": [
    "from sklearn.random_projection import johnson_lindenstrauss_min_dim\n",
    "\n",
    "johnson_lindenstrauss_min_dim(n_samples = 4201, eps = 0.9)"
   ]
  },
  {
   "cell_type": "markdown",
   "id": "a4bcadf0",
   "metadata": {},
   "source": [
    "Knowing only the number of samples, the johnson_lindenstrauss_min_dim estimates conservatively the minimal size of the random subspace to guarantee a bounded distortion introduced by the random projection."
   ]
  },
  {
   "cell_type": "code",
   "execution_count": 31,
   "id": "7a7e9a57",
   "metadata": {},
   "outputs": [
    {
     "name": "stdout",
     "output_type": "stream",
     "text": [
      "(4201, 206)\n",
      "(4209, 206)\n"
     ]
    }
   ],
   "source": [
    "grp = GaussianRandomProjection(n_components = 206, random_state = 42)\n",
    "\n",
    "grp.fit(train_binary)\n",
    "\n",
    "grp_train_binary = grp.transform(train_binary)\n",
    "grp_test_binary = grp.transform(test_binary)\n",
    "                                \n",
    "print(grp_train_binary.shape)\n",
    "print(grp_test_binary.shape)"
   ]
  },
  {
   "cell_type": "code",
   "execution_count": 32,
   "id": "235d7081",
   "metadata": {},
   "outputs": [
    {
     "data": {
      "text/plain": [
       "['GRP.pkl']"
      ]
     },
     "execution_count": 32,
     "metadata": {},
     "output_type": "execute_result"
    }
   ],
   "source": [
    "joblib.dump(grp, 'GRP.pkl')"
   ]
  },
  {
   "cell_type": "code",
   "execution_count": 33,
   "id": "708c6479",
   "metadata": {},
   "outputs": [
    {
     "data": {
      "image/png": "[encoded data removed]",
      "text/plain": [
       "<Figure size 432x288 with 1 Axes>"
      ]
     },
     "metadata": {
      "needs_background": "light"
     },
     "output_type": "display_data"
    }
   ],
   "source": [
    "grp_train_binary_df = pd.DataFrame (grp_train_binary)\n",
    "grp_var = []\n",
    "\n",
    "for feature in grp_train_binary_df.columns:\n",
    "    grp_var.append(variance(grp_train_binary_df[feature]))\n",
    "\n",
    "plt.plot(grp_train_binary_df.columns, grp_var)\n",
    "plt.xlabel('Feature')\n",
    "plt.ylabel('Variance')\n",
    "plt.show()  "
   ]
  },
  {
   "cell_type": "markdown",
   "id": "6d9fe641",
   "metadata": {},
   "source": [
    "### Independent component analysis for Binary Features "
   ]
  },
  {
   "cell_type": "code",
   "execution_count": 34,
   "id": "fed53a3d",
   "metadata": {},
   "outputs": [
    {
     "name": "stdout",
     "output_type": "stream",
     "text": [
      "(4201, 158)\n",
      "(4209, 158)\n"
     ]
    }
   ],
   "source": [
    "#ica = FastICA(n_components = 10, random_state = 42)\n",
    "ica = FastICA()\n",
    "ica.fit(train_binary)\n",
    "\n",
    "ica_train_binary = ica.transform(train_binary)\n",
    "ica_test_binary = ica.transform(test_binary)\n",
    "\n",
    "print(ica_train_binary.shape)\n",
    "print(ica_test_binary.shape)"
   ]
  },
  {
   "cell_type": "code",
   "execution_count": 35,
   "id": "9a44410d",
   "metadata": {},
   "outputs": [
    {
     "data": {
      "image/png": "[encoded data removed]",
      "text/plain": [
       "<Figure size 432x288 with 1 Axes>"
      ]
     },
     "metadata": {
      "needs_background": "light"
     },
     "output_type": "display_data"
    }
   ],
   "source": [
    "ica_train_binary_df = pd.DataFrame (ica_train_binary)\n",
    "ica_var = []\n",
    "\n",
    "for feature in ica_train_binary_df.columns:\n",
    "    ica_var.append(variance(ica_train_binary_df[feature]))\n",
    "\n",
    "plt.plot(ica_train_binary_df.columns, ica_var)\n",
    "plt.xlabel('Feature')\n",
    "plt.ylabel('Variance')\n",
    "plt.show()  "
   ]
  },
  {
   "cell_type": "markdown",
   "id": "8737e575",
   "metadata": {},
   "source": [
    "### Interaction Features "
   ]
  },
  {
   "cell_type": "code",
   "execution_count": 36,
   "id": "f418513a",
   "metadata": {},
   "outputs": [
    {
     "name": "stdout",
     "output_type": "stream",
     "text": [
      "(4201, 12562)\n",
      "(4209, 12562)\n"
     ]
    }
   ],
   "source": [
    "pf = PolynomialFeatures(interaction_only = True)\n",
    "pf.fit(train_binary)\n",
    "\n",
    "pf_train_binary = pf.transform(train_binary)\n",
    "pf_test_binary = pf.transform(test_binary)\n",
    "\n",
    "print(pf_train_binary.shape)\n",
    "print(pf_test_binary.shape)"
   ]
  },
  {
   "cell_type": "code",
   "execution_count": 37,
   "id": "557d60ac",
   "metadata": {},
   "outputs": [
    {
     "data": {
      "text/plain": [
       "['PF.pkl']"
      ]
     },
     "execution_count": 37,
     "metadata": {},
     "output_type": "execute_result"
    }
   ],
   "source": [
    "joblib.dump(pf, 'PF.pkl')"
   ]
  },
  {
   "cell_type": "code",
   "execution_count": 38,
   "id": "e4dc8e1e",
   "metadata": {},
   "outputs": [],
   "source": [
    "pf_train_binary_df = pd.DataFrame (pf_train_binary)\n"
   ]
  },
  {
   "cell_type": "code",
   "execution_count": 39,
   "id": "798c52f4",
   "metadata": {},
   "outputs": [],
   "source": [
    "pf_test_binary_df = pd.DataFrame (pf_test_binary)"
   ]
  },
  {
   "cell_type": "code",
   "execution_count": 40,
   "id": "4406bb86",
   "metadata": {},
   "outputs": [],
   "source": [
    "#pf_var = []\n",
    "\n",
    "#for feature in pf_train_binary_df.columns:\n",
    "    #pf_var.append(variance(pf_train_binary_df[feature]))"
   ]
  },
  {
   "cell_type": "code",
   "execution_count": 41,
   "id": "384ad360",
   "metadata": {},
   "outputs": [],
   "source": [
    "#pf_ftr = list(pf_train_binary_df.columns)\n",
    "#ftr_var_dict = {pf_ftr[i]: pf_var[i] for i in range(len(pf_var))}"
   ]
  },
  {
   "cell_type": "code",
   "execution_count": 42,
   "id": "d79cc291",
   "metadata": {},
   "outputs": [],
   "source": [
    "#pf_ftr_var_df = pd.DataFrame()\n",
    "#pf_ftr_var_df['feature'] = pf_train_binary_df.columns\n",
    "#pf_ftr_var_df['variance'] = pf_var"
   ]
  },
  {
   "cell_type": "code",
   "execution_count": 43,
   "id": "f4cf61c4",
   "metadata": {},
   "outputs": [],
   "source": [
    "#ftr_zero_var = []\n",
    "#for i in range(pf_ftr_var_df.shape[0]):\n",
    "  #  if pf_ftr_var_df['variance'][i] == 0:\n",
    "   #     ftr_zero_var.append(pf_ftr_var_df['feature'][i]) "
   ]
  },
  {
   "cell_type": "code",
   "execution_count": 44,
   "id": "b31fe445",
   "metadata": {},
   "outputs": [],
   "source": [
    "#index_zero_var = pf_ftr_var_df.index[pf_ftr_var_df['variance'] == 0].tolist()"
   ]
  },
  {
   "cell_type": "code",
   "execution_count": 45,
   "id": "d85ad564",
   "metadata": {},
   "outputs": [],
   "source": [
    "#pf_ftr_var_df_upd = pf_ftr_var_df.drop(index_zero_var, axis = 0).reset_index(drop = True)"
   ]
  },
  {
   "cell_type": "code",
   "execution_count": 46,
   "id": "4e10c6b6",
   "metadata": {
    "scrolled": false
   },
   "outputs": [],
   "source": [
    "#final_pf_train_binary_df = pf_train_binary_df.drop(columns = ftr_zero_var)"
   ]
  },
  {
   "cell_type": "code",
   "execution_count": 47,
   "id": "4de05e1d",
   "metadata": {},
   "outputs": [],
   "source": [
    "# ftr_same_var = []\n",
    "# for i in range(pf_ftr_var_df_upd.shape[0]):\n",
    "#     for j in range(pf_ftr_var_df_upd.shape[0]):\n",
    "#         if pf_ftr_var_df_upd['feature'][i] == pf_ftr_var_df_upd['feature'][j]:\n",
    "#             continue\n",
    "#         elif pf_ftr_var_df_upd['variance'][i] == pf_ftr_var_df_upd['variance'][j]:\n",
    "#             if pf_ftr_var_df_upd['feature'][i] not in ftr_same_var:\n",
    "#                 ftr_same_var.append(pf_ftr_var_df_upd['feature'][i])\n",
    "#             elif pf_ftr_var_df_upd['feature'][j] not in ftr_same_var:\n",
    "#                 ftr_same_var.append(pf_ftr_var_df_upd['feature'][j])\n",
    "#         else:\n",
    "#             continue"
   ]
  },
  {
   "cell_type": "code",
   "execution_count": 48,
   "id": "56c80289",
   "metadata": {},
   "outputs": [],
   "source": [
    "#ftr_to_drop = ftr_zero_var + ftr_same_var"
   ]
  },
  {
   "cell_type": "code",
   "execution_count": 49,
   "id": "56dbe725",
   "metadata": {},
   "outputs": [],
   "source": [
    "#final_pf_train_binary_df = pf_train_binary_df.drop(columns = ftr_to_drop)"
   ]
  },
  {
   "cell_type": "code",
   "execution_count": 50,
   "id": "14becba0",
   "metadata": {},
   "outputs": [],
   "source": [
    "#final_pf_train_binary_df.head()"
   ]
  },
  {
   "cell_type": "code",
   "execution_count": 51,
   "id": "1e156cff",
   "metadata": {},
   "outputs": [],
   "source": [
    "# pf_var_new = []\n",
    "\n",
    "# for feature in final_pf_train_binary_df.columns:\n",
    "#     pf_var_new.append(variance(final_pf_train_binary_df[feature]))"
   ]
  },
  {
   "cell_type": "code",
   "execution_count": 52,
   "id": "7808e3e9",
   "metadata": {},
   "outputs": [],
   "source": [
    "# pf_ftr_var_df_new = pd.DataFrame()\n",
    "# pf_ftr_var_df_new['feature'] = final_pf_train_binary_df.columns\n",
    "# pf_ftr_var_df_new['variance'] = pf_var_new"
   ]
  },
  {
   "cell_type": "code",
   "execution_count": 53,
   "id": "7f0e6177",
   "metadata": {},
   "outputs": [],
   "source": [
    "#pf_ftr_var_df_new"
   ]
  },
  {
   "cell_type": "code",
   "execution_count": 54,
   "id": "8b63d6ab",
   "metadata": {},
   "outputs": [],
   "source": [
    "# pf_ftr = list(final_pf_train_binary_df.columns)\n",
    "# ftr_var_dict = {pf_ftr[i]: pf_var_new[i] for i in range(len(pf_var_new))}"
   ]
  },
  {
   "cell_type": "code",
   "execution_count": 55,
   "id": "38614920",
   "metadata": {},
   "outputs": [],
   "source": [
    "#sorted_ftr_var_dict = dict( sorted(ftr_var_dict.items(), key=operator.itemgetter(1),reverse=True))"
   ]
  },
  {
   "cell_type": "code",
   "execution_count": 56,
   "id": "93945802",
   "metadata": {},
   "outputs": [],
   "source": [
    "#sorted_ftr_var_dict"
   ]
  },
  {
   "cell_type": "code",
   "execution_count": 57,
   "id": "06a19f9b",
   "metadata": {},
   "outputs": [],
   "source": [
    "top_10_interaction_features = [12526, 6639, 4899, 3178, 2437, 2483, 6181, 2811, 6854, 4573]\n",
    "\n",
    "final_interaction_train = pf_train_binary_df[top_10_interaction_features]\n",
    "final_interaction_test = pf_test_binary_df[top_10_interaction_features]"
   ]
  },
  {
   "cell_type": "code",
   "execution_count": 58,
   "id": "6e2bf755",
   "metadata": {},
   "outputs": [
    {
     "data": {
      "text/plain": [
       "['10Interaction.pkl']"
      ]
     },
     "execution_count": 58,
     "metadata": {},
     "output_type": "execute_result"
    }
   ],
   "source": [
    "joblib.dump(top_10_interaction_features, '10Interaction.pkl')"
   ]
  },
  {
   "cell_type": "code",
   "execution_count": 59,
   "id": "d896dbb0",
   "metadata": {},
   "outputs": [
    {
     "name": "stdout",
     "output_type": "stream",
     "text": [
      "(4201, 10)\n",
      "(4209, 10)\n"
     ]
    }
   ],
   "source": [
    "print(final_interaction_train.shape)\n",
    "print(final_interaction_test.shape)"
   ]
  },
  {
   "cell_type": "code",
   "execution_count": 60,
   "id": "f34b0dd0",
   "metadata": {},
   "outputs": [
    {
     "data": {
      "image/png": "[encoded data removed]",
      "text/plain": [
       "<Figure size 432x288 with 1 Axes>"
      ]
     },
     "metadata": {
      "needs_background": "light"
     },
     "output_type": "display_data"
    }
   ],
   "source": [
    "interaction_var = []\n",
    "\n",
    "for feature in final_interaction_train.columns:\n",
    "    interaction_var.append(variance(final_interaction_train[feature]))\n",
    "\n",
    "plt.plot( final_interaction_train.columns, interaction_var)\n",
    "plt.xlabel('Feature')\n",
    "plt.ylabel('Variance')\n",
    "plt.show() "
   ]
  },
  {
   "cell_type": "markdown",
   "id": "c815d166",
   "metadata": {},
   "source": [
    "### Baseline models "
   ]
  },
  {
   "cell_type": "markdown",
   "id": "afbe9c1b",
   "metadata": {},
   "source": [
    "#### Label Encoded Categorical Features + Binary Features (Linear Regression) "
   ]
  },
  {
   "cell_type": "code",
   "execution_count": 61,
   "id": "2b3d5374",
   "metadata": {},
   "outputs": [],
   "source": [
    "train_new = pd.concat([train_catg_encoded, train.drop(columns = ['X0', 'X1', 'X2', 'X3', 'X5', 'X6', 'X8', 'ID', 'y'])], axis = 1, join = 'inner')\n",
    "#test = pd.concat([test_catg_encoded, test.drop(columns = ['X0', 'X1', 'X2', 'X3', 'X5', 'X6', 'X8', 'ID'])], axis = 1, join = 'inner')"
   ]
  },
  {
   "cell_type": "code",
   "execution_count": 62,
   "id": "fdf6023a",
   "metadata": {},
   "outputs": [],
   "source": [
    "test_new = pd.concat([test_catg_encoded, test.drop(columns = ['X0', 'X1', 'X2', 'X3', 'X5', 'X6', 'X8', 'ID'])], axis = 1, join = 'inner')"
   ]
  },
  {
   "cell_type": "code",
   "execution_count": 72,
   "id": "f49147b9",
   "metadata": {},
   "outputs": [],
   "source": [
    "train_new.to_csv('original_train.csv', index = False)\n",
    "test_new.to_csv('original_test.csv', index = False)"
   ]
  },
  {
   "cell_type": "code",
   "execution_count": 79,
   "id": "e0a896f8",
   "metadata": {},
   "outputs": [],
   "source": [
    "X = train_new\n",
    "y = train['y']"
   ]
  },
  {
   "cell_type": "code",
   "execution_count": 80,
   "id": "e50bab93",
   "metadata": {},
   "outputs": [],
   "source": [
    "y.to_csv('labels.csv', index = False)"
   ]
  },
  {
   "cell_type": "code",
   "execution_count": 36,
   "id": "cf288eee",
   "metadata": {},
   "outputs": [],
   "source": [
    "x_train, x_test, y_train, y_test = train_test_split(X, y, test_size = 0.2, random_state = 42)"
   ]
  },
  {
   "cell_type": "code",
   "execution_count": 38,
   "id": "02025405",
   "metadata": {},
   "outputs": [],
   "source": [
    "lr = LinearRegression()\n",
    "\n",
    "lr.fit(x_train, y_train)\n",
    "\n",
    "y_pred_train = lr.predict(x_train)\n",
    "y_pred_test = lr.predict(x_test)"
   ]
  },
  {
   "cell_type": "code",
   "execution_count": 39,
   "id": "c0315ac0",
   "metadata": {},
   "outputs": [
    {
     "data": {
      "text/plain": [
       "0.6263861890238347"
      ]
     },
     "execution_count": 39,
     "metadata": {},
     "output_type": "execute_result"
    }
   ],
   "source": [
    "r2_score(y_train, y_pred_train)"
   ]
  },
  {
   "cell_type": "code",
   "execution_count": 40,
   "id": "d7312f4b",
   "metadata": {},
   "outputs": [
    {
     "data": {
      "text/plain": [
       "0.5523543565034339"
      ]
     },
     "execution_count": 40,
     "metadata": {},
     "output_type": "execute_result"
    }
   ],
   "source": [
    "r2_score(y_test, y_pred_test)"
   ]
  },
  {
   "cell_type": "markdown",
   "id": "c3b1fbe9",
   "metadata": {},
   "source": [
    "####  Label Encoded Categorical Features + Binary Features (Decision Tree Regression)"
   ]
  },
  {
   "cell_type": "code",
   "execution_count": 42,
   "id": "ddd18a3c",
   "metadata": {},
   "outputs": [
    {
     "name": "stdout",
     "output_type": "stream",
     "text": [
      "Fitting 5 folds for each of 7 candidates, totalling 35 fits\n",
      "Fitting 5 folds for each of 7 candidates, totalling 35 fits\n"
     ]
    },
    {
     "data": {
      "text/plain": [
       "RandomizedSearchCV(estimator=DecisionTreeRegressor(), n_jobs=-1,\n",
       "                   param_distributions={'max_depth': [1, 5, 10, 50, 100, 500,\n",
       "                                                      1000]},\n",
       "                   verbose=10)"
      ]
     },
     "execution_count": 42,
     "metadata": {},
     "output_type": "execute_result"
    }
   ],
   "source": [
    "depth = [1, 5, 10, 50, 100, 500, 1000]\n",
    "parameters = {'max_depth' : depth}\n",
    "\n",
    "dtr = DecisionTreeRegressor()\n",
    "regressor = RandomizedSearchCV(dtr, param_distributions = parameters, verbose = 10, n_jobs = -1)\n",
    "best_regressor = regressor.fit(x_train, y_train)\n",
    "best_max_depth = best_regressor.best_estimator_.get_params()\n",
    "\n",
    "regressor.fit(x_train, y_train)"
   ]
  },
  {
   "cell_type": "code",
   "execution_count": 43,
   "id": "7b07f5fc",
   "metadata": {},
   "outputs": [
    {
     "data": {
      "text/plain": [
       "{'ccp_alpha': 0.0,\n",
       " 'criterion': 'squared_error',\n",
       " 'max_depth': 5,\n",
       " 'max_features': None,\n",
       " 'max_leaf_nodes': None,\n",
       " 'min_impurity_decrease': 0.0,\n",
       " 'min_samples_leaf': 1,\n",
       " 'min_samples_split': 2,\n",
       " 'min_weight_fraction_leaf': 0.0,\n",
       " 'random_state': None,\n",
       " 'splitter': 'best'}"
      ]
     },
     "execution_count": 43,
     "metadata": {},
     "output_type": "execute_result"
    }
   ],
   "source": [
    "best_max_depth"
   ]
  },
  {
   "cell_type": "code",
   "execution_count": 44,
   "id": "85a19307",
   "metadata": {},
   "outputs": [],
   "source": [
    "dtr = DecisionTreeRegressor(max_depth = 5)\n",
    "\n",
    "dtr.fit(x_train, y_train)\n",
    "\n",
    "y_pred_train = dtr.predict(x_train)\n",
    "y_pred_test = dtr.predict(x_test)"
   ]
  },
  {
   "cell_type": "code",
   "execution_count": 45,
   "id": "30112b21",
   "metadata": {},
   "outputs": [
    {
     "data": {
      "text/plain": [
       "0.6303076330641604"
      ]
     },
     "execution_count": 45,
     "metadata": {},
     "output_type": "execute_result"
    }
   ],
   "source": [
    "r2_score(y_train, y_pred_train)"
   ]
  },
  {
   "cell_type": "code",
   "execution_count": 46,
   "id": "70f7bc00",
   "metadata": {},
   "outputs": [
    {
     "data": {
      "text/plain": [
       "0.6006702094136402"
      ]
     },
     "execution_count": 46,
     "metadata": {},
     "output_type": "execute_result"
    }
   ],
   "source": [
    "r2_score(y_test, y_pred_test)"
   ]
  },
  {
   "cell_type": "markdown",
   "id": "fb462bed",
   "metadata": {},
   "source": [
    "####  Label Encoded Categorical Features + Binary Features (Random Forest Regression)"
   ]
  },
  {
   "cell_type": "code",
   "execution_count": 47,
   "id": "75a4f325",
   "metadata": {},
   "outputs": [
    {
     "name": "stdout",
     "output_type": "stream",
     "text": [
      "Fitting 5 folds for each of 10 candidates, totalling 50 fits\n",
      "Fitting 5 folds for each of 10 candidates, totalling 50 fits\n"
     ]
    },
    {
     "data": {
      "text/plain": [
       "RandomizedSearchCV(estimator=RandomForestRegressor(), n_jobs=-1,\n",
       "                   param_distributions={'max_depth': [3, 5, 10, 15, 20, 25, 30],\n",
       "                                        'max_features': ['auto', 'sqrt'],\n",
       "                                        'min_samples_leaf': [1, 2, 5, 10],\n",
       "                                        'min_samples_split': [2, 3, 5, 10, 15,\n",
       "                                                              100],\n",
       "                                        'n_estimators': [10, 25, 50, 100, 200,\n",
       "                                                         300, 400, 500]},\n",
       "                   verbose=10)"
      ]
     },
     "execution_count": 47,
     "metadata": {},
     "output_type": "execute_result"
    }
   ],
   "source": [
    "n_estimators = [10, 25, 50, 100, 200, 300, 400, 500]\n",
    "max_features = ['auto', 'sqrt']\n",
    "max_depth = [3, 5, 10, 15, 20, 25, 30]\n",
    "min_samples_split = [2, 3, 5, 10, 15, 100]\n",
    "min_samples_leaf = [1, 2, 5, 10]\n",
    "\n",
    "parameters = {'n_estimators': n_estimators, 'max_features': max_features, 'max_depth': max_depth, 'min_samples_split': min_samples_split, 'min_samples_leaf': min_samples_leaf}\n",
    "\n",
    "rfr = RandomForestRegressor()\n",
    "regressor = RandomizedSearchCV(rfr, param_distributions = parameters, verbose = 10, n_jobs = -1)\n",
    "best_regressor = regressor.fit(x_train, y_train)\n",
    "best_param = best_regressor.best_estimator_.get_params()\n",
    "\n",
    "\n",
    "regressor.fit(x_train, y_train)"
   ]
  },
  {
   "cell_type": "code",
   "execution_count": 48,
   "id": "7e6e9087",
   "metadata": {},
   "outputs": [
    {
     "data": {
      "text/plain": [
       "{'bootstrap': True,\n",
       " 'ccp_alpha': 0.0,\n",
       " 'criterion': 'squared_error',\n",
       " 'max_depth': 15,\n",
       " 'max_features': 'auto',\n",
       " 'max_leaf_nodes': None,\n",
       " 'max_samples': None,\n",
       " 'min_impurity_decrease': 0.0,\n",
       " 'min_samples_leaf': 10,\n",
       " 'min_samples_split': 100,\n",
       " 'min_weight_fraction_leaf': 0.0,\n",
       " 'n_estimators': 400,\n",
       " 'n_jobs': None,\n",
       " 'oob_score': False,\n",
       " 'random_state': None,\n",
       " 'verbose': 0,\n",
       " 'warm_start': False}"
      ]
     },
     "execution_count": 48,
     "metadata": {},
     "output_type": "execute_result"
    }
   ],
   "source": [
    "best_param"
   ]
  },
  {
   "cell_type": "code",
   "execution_count": 49,
   "id": "9da0ef76",
   "metadata": {},
   "outputs": [],
   "source": [
    "rfr = RandomForestRegressor(n_estimators = 400, max_features = 'auto', max_depth = 15, min_samples_leaf = 10, min_samples_split = 100)\n",
    "\n",
    "rfr.fit(x_train, y_train)\n",
    "\n",
    "y_pred_train = rfr.predict(x_train)\n",
    "y_pred_test = rfr.predict(x_test)"
   ]
  },
  {
   "cell_type": "code",
   "execution_count": 50,
   "id": "b598d7ba",
   "metadata": {},
   "outputs": [
    {
     "data": {
      "text/plain": [
       "0.6540876986527313"
      ]
     },
     "execution_count": 50,
     "metadata": {},
     "output_type": "execute_result"
    }
   ],
   "source": [
    "r2_score(y_train, y_pred_train)"
   ]
  },
  {
   "cell_type": "code",
   "execution_count": 51,
   "id": "d9e28634",
   "metadata": {},
   "outputs": [
    {
     "data": {
      "text/plain": [
       "0.5885704707613779"
      ]
     },
     "execution_count": 51,
     "metadata": {},
     "output_type": "execute_result"
    }
   ],
   "source": [
    "r2_score(y_test, y_pred_test)"
   ]
  },
  {
   "cell_type": "markdown",
   "id": "9f58566a",
   "metadata": {},
   "source": [
    "#### Label Encoded Categorical Features + Binary Features + PCA + SVD (Decision tree Regression)"
   ]
  },
  {
   "cell_type": "code",
   "execution_count": 73,
   "id": "522da1d9",
   "metadata": {},
   "outputs": [],
   "source": [
    "#pca_train_binary_df = pd.DataFrame(pca_train_binary)\n",
    "#svd_train_binary_df = pd.DataFrame(svd_train_binary)\n",
    "\n",
    "pca_test_binary_df = pd.DataFrame(pca_test_binary)\n",
    "pca_test_binary_df = pca_test_binary_df[range(0,100)]\n",
    "\n",
    "svd_test_binary_df = pd.DataFrame(svd_test_binary)\n",
    "svd_test_binary_df = svd_test_binary_df[range(0,100)]\n",
    "\n",
    "train_pca_svd = pd.concat([train_new, pca_train_binary_df, svd_train_binary_df], axis = 1, join = 'inner')\n",
    "test_pca_svd = pd.concat([test_new, pca_test_binary_df, svd_test_binary_df], axis = 1, join = 'inner')"
   ]
  },
  {
   "cell_type": "code",
   "execution_count": 74,
   "id": "1d205bb4",
   "metadata": {},
   "outputs": [],
   "source": [
    "train_pca_svd.to_csv('original_pca_svd_train.csv', index = False)\n",
    "test_pca_svd.to_csv('original_pca_svd_test.csv', index = False)"
   ]
  },
  {
   "cell_type": "code",
   "execution_count": 53,
   "id": "a1853fff",
   "metadata": {},
   "outputs": [],
   "source": [
    "X = train_pca_svd"
   ]
  },
  {
   "cell_type": "code",
   "execution_count": 54,
   "id": "43e9c2ea",
   "metadata": {},
   "outputs": [],
   "source": [
    "x_train, x_test, y_train, y_test = train_test_split(X, y, test_size = 0.2, random_state = 42)"
   ]
  },
  {
   "cell_type": "code",
   "execution_count": 59,
   "id": "4cd57445",
   "metadata": {},
   "outputs": [
    {
     "name": "stdout",
     "output_type": "stream",
     "text": [
      "Fitting 5 folds for each of 7 candidates, totalling 35 fits\n",
      "Fitting 5 folds for each of 7 candidates, totalling 35 fits\n"
     ]
    },
    {
     "data": {
      "text/plain": [
       "RandomizedSearchCV(estimator=DecisionTreeRegressor(), n_jobs=-1,\n",
       "                   param_distributions={'max_depth': [1, 5, 10, 50, 100, 500,\n",
       "                                                      1000]},\n",
       "                   verbose=10)"
      ]
     },
     "execution_count": 59,
     "metadata": {},
     "output_type": "execute_result"
    }
   ],
   "source": [
    "depth = [1, 5, 10, 50, 100, 500, 1000]\n",
    "parameters = {'max_depth' : depth}\n",
    "\n",
    "dtr = DecisionTreeRegressor()\n",
    "\n",
    "regressor = RandomizedSearchCV(dtr, param_distributions = parameters, verbose = 10, n_jobs = -1)\n",
    "best_regressor = regressor.fit(x_train, y_train)\n",
    "best_max_depth = best_regressor.best_estimator_.get_params()\n",
    "regressor.fit(x_train, y_train)"
   ]
  },
  {
   "cell_type": "code",
   "execution_count": 60,
   "id": "72f801da",
   "metadata": {},
   "outputs": [
    {
     "data": {
      "text/plain": [
       "{'ccp_alpha': 0.0,\n",
       " 'criterion': 'squared_error',\n",
       " 'max_depth': 5,\n",
       " 'max_features': None,\n",
       " 'max_leaf_nodes': None,\n",
       " 'min_impurity_decrease': 0.0,\n",
       " 'min_samples_leaf': 1,\n",
       " 'min_samples_split': 2,\n",
       " 'min_weight_fraction_leaf': 0.0,\n",
       " 'random_state': None,\n",
       " 'splitter': 'best'}"
      ]
     },
     "execution_count": 60,
     "metadata": {},
     "output_type": "execute_result"
    }
   ],
   "source": [
    "best_max_depth"
   ]
  },
  {
   "cell_type": "code",
   "execution_count": 61,
   "id": "d95194e2",
   "metadata": {},
   "outputs": [],
   "source": [
    "dtr = DecisionTreeRegressor(max_depth = 5)\n",
    "\n",
    "dtr.fit(x_train, y_train)\n",
    "\n",
    "y_pred_train = dtr.predict(x_train)\n",
    "y_pred_test = dtr.predict(x_test)"
   ]
  },
  {
   "cell_type": "code",
   "execution_count": 62,
   "id": "57abbf20",
   "metadata": {},
   "outputs": [
    {
     "data": {
      "text/plain": [
       "0.6470824113412261"
      ]
     },
     "execution_count": 62,
     "metadata": {},
     "output_type": "execute_result"
    }
   ],
   "source": [
    "r2_score(y_train, y_pred_train)"
   ]
  },
  {
   "cell_type": "code",
   "execution_count": 63,
   "id": "f9c561b3",
   "metadata": {},
   "outputs": [
    {
     "data": {
      "text/plain": [
       "0.5746953412280056"
      ]
     },
     "execution_count": 63,
     "metadata": {},
     "output_type": "execute_result"
    }
   ],
   "source": [
    "r2_score(y_test, y_pred_test)"
   ]
  },
  {
   "cell_type": "markdown",
   "id": "29cf9c29",
   "metadata": {},
   "source": [
    "####  Label Encoded Categorical Features + Binary Features + PCA + SVD (Random forest Regression)"
   ]
  },
  {
   "cell_type": "code",
   "execution_count": 70,
   "id": "04d1737f",
   "metadata": {},
   "outputs": [
    {
     "name": "stdout",
     "output_type": "stream",
     "text": [
      "Fitting 5 folds for each of 10 candidates, totalling 50 fits\n",
      "Fitting 5 folds for each of 10 candidates, totalling 50 fits\n"
     ]
    },
    {
     "data": {
      "text/plain": [
       "RandomizedSearchCV(estimator=RandomForestRegressor(), n_jobs=-1,\n",
       "                   param_distributions={'max_depth': [3, 5, 10, 15, 20, 25, 30],\n",
       "                                        'max_features': ['auto', 'sqrt'],\n",
       "                                        'min_samples_leaf': [1, 2, 5, 10],\n",
       "                                        'min_samples_split': [2, 3, 5, 10, 15,\n",
       "                                                              100],\n",
       "                                        'n_estimators': [10, 25, 50, 100, 200,\n",
       "                                                         300, 400, 500]},\n",
       "                   verbose=10)"
      ]
     },
     "execution_count": 70,
     "metadata": {},
     "output_type": "execute_result"
    }
   ],
   "source": [
    "n_estimators = [10, 25, 50, 100, 200, 300, 400, 500]\n",
    "max_features = ['auto', 'sqrt']\n",
    "max_depth = [3, 5, 10, 15, 20, 25, 30]\n",
    "min_samples_split = [2, 3, 5, 10, 15, 100]\n",
    "min_samples_leaf = [1, 2, 5, 10]\n",
    "\n",
    "parameters = {'n_estimators': n_estimators, 'max_features': max_features, 'max_depth': max_depth, 'min_samples_split': min_samples_split, 'min_samples_leaf': min_samples_leaf}\n",
    "\n",
    "rfr = RandomForestRegressor()\n",
    "regressor = RandomizedSearchCV(rfr, param_distributions = parameters, verbose = 10, n_jobs = -1)\n",
    "best_regressor = regressor.fit(x_train, y_train)\n",
    "best_param = best_regressor.best_estimator_.get_params()\n",
    "regressor.fit(x_train, y_train)"
   ]
  },
  {
   "cell_type": "code",
   "execution_count": 71,
   "id": "07546a4d",
   "metadata": {},
   "outputs": [
    {
     "data": {
      "text/plain": [
       "{'bootstrap': True,\n",
       " 'ccp_alpha': 0.0,\n",
       " 'criterion': 'squared_error',\n",
       " 'max_depth': 30,\n",
       " 'max_features': 'auto',\n",
       " 'max_leaf_nodes': None,\n",
       " 'max_samples': None,\n",
       " 'min_impurity_decrease': 0.0,\n",
       " 'min_samples_leaf': 2,\n",
       " 'min_samples_split': 100,\n",
       " 'min_weight_fraction_leaf': 0.0,\n",
       " 'n_estimators': 25,\n",
       " 'n_jobs': None,\n",
       " 'oob_score': False,\n",
       " 'random_state': None,\n",
       " 'verbose': 0,\n",
       " 'warm_start': False}"
      ]
     },
     "execution_count": 71,
     "metadata": {},
     "output_type": "execute_result"
    }
   ],
   "source": [
    "best_param"
   ]
  },
  {
   "cell_type": "code",
   "execution_count": 72,
   "id": "4b17310e",
   "metadata": {},
   "outputs": [],
   "source": [
    "rfr = RandomForestRegressor(n_estimators = 25, max_features = 'auto', max_depth = 30, min_samples_leaf = 2, min_samples_split = 100)\n",
    "\n",
    "rfr.fit(x_train, y_train)\n",
    "\n",
    "y_pred_train = rfr.predict(x_train)\n",
    "y_pred_test = rfr.predict(x_test)"
   ]
  },
  {
   "cell_type": "code",
   "execution_count": 73,
   "id": "6cad09ec",
   "metadata": {},
   "outputs": [
    {
     "data": {
      "text/plain": [
       "0.6956922868810216"
      ]
     },
     "execution_count": 73,
     "metadata": {},
     "output_type": "execute_result"
    }
   ],
   "source": [
    "r2_score(y_train, y_pred_train)"
   ]
  },
  {
   "cell_type": "code",
   "execution_count": 74,
   "id": "a52c946c",
   "metadata": {},
   "outputs": [
    {
     "data": {
      "text/plain": [
       "0.5268296476209569"
      ]
     },
     "execution_count": 74,
     "metadata": {},
     "output_type": "execute_result"
    }
   ],
   "source": [
    "r2_score(y_test, y_pred_test)"
   ]
  },
  {
   "cell_type": "markdown",
   "id": "65c8be60",
   "metadata": {},
   "source": [
    "####  Label Encoded Categorical Features + Binary Features + PCA + SVD + GRP + Interaction Features (Decision Tree Regression)"
   ]
  },
  {
   "cell_type": "code",
   "execution_count": 75,
   "id": "03614784",
   "metadata": {},
   "outputs": [],
   "source": [
    "grp_train_binary_df = pd.DataFrame(grp_train_binary)"
   ]
  },
  {
   "cell_type": "code",
   "execution_count": 76,
   "id": "39877d47",
   "metadata": {},
   "outputs": [
    {
     "data": {
      "text/plain": [
       "(4201, 581)"
      ]
     },
     "execution_count": 76,
     "metadata": {},
     "output_type": "execute_result"
    }
   ],
   "source": [
    "train_all = pd.concat([train_new, pca_train_binary_df, svd_train_binary_df, grp_train_binary_df, final_interaction_train], axis = 1, join = 'inner')\n",
    "train_all.shape"
   ]
  },
  {
   "cell_type": "code",
   "execution_count": 66,
   "id": "480ea345",
   "metadata": {},
   "outputs": [
    {
     "data": {
      "text/plain": [
       "(4201, 581)"
      ]
     },
     "execution_count": 66,
     "metadata": {},
     "output_type": "execute_result"
    }
   ],
   "source": [
    "train_all.shape"
   ]
  },
  {
   "cell_type": "code",
   "execution_count": 49,
   "id": "3d49e9e5",
   "metadata": {},
   "outputs": [
    {
     "data": {
      "text/plain": [
       "(4209, 100)"
      ]
     },
     "execution_count": 49,
     "metadata": {},
     "output_type": "execute_result"
    }
   ],
   "source": [
    "pca_test_binary_df.shape"
   ]
  },
  {
   "cell_type": "code",
   "execution_count": 77,
   "id": "c7cce345",
   "metadata": {},
   "outputs": [
    {
     "data": {
      "text/plain": [
       "(4209, 581)"
      ]
     },
     "execution_count": 77,
     "metadata": {},
     "output_type": "execute_result"
    }
   ],
   "source": [
    "grp_test_binary_df = pd.DataFrame(grp_test_binary)\n",
    "test_all = pd.concat([test_new, pca_test_binary_df, svd_test_binary_df, grp_test_binary_df, final_interaction_test], axis = 1, join = 'inner')\n",
    "test_all.shape"
   ]
  },
  {
   "cell_type": "code",
   "execution_count": 78,
   "id": "beb83f6b",
   "metadata": {},
   "outputs": [],
   "source": [
    "train_all.to_csv('original_all_train.csv', index = False)\n",
    "test_all.to_csv('original_all_test.csv', index = False)"
   ]
  },
  {
   "cell_type": "code",
   "execution_count": 57,
   "id": "2d10f630",
   "metadata": {},
   "outputs": [],
   "source": [
    "X = train_all"
   ]
  },
  {
   "cell_type": "code",
   "execution_count": 62,
   "id": "a82aa74a",
   "metadata": {},
   "outputs": [
    {
     "data": {
      "text/html": [
       "<div>\n",
       "<style scoped>\n",
       "    .dataframe tbody tr th:only-of-type {\n",
       "        vertical-align: middle;\n",
       "    }\n",
       "\n",
       "    .dataframe tbody tr th {\n",
       "        vertical-align: top;\n",
       "    }\n",
       "\n",
       "    .dataframe thead th {\n",
       "        text-align: right;\n",
       "    }\n",
       "</style>\n",
       "<table border=\"1\" class=\"dataframe\">\n",
       "  <thead>\n",
       "    <tr style=\"text-align: right;\">\n",
       "      <th></th>\n",
       "      <th>X0</th>\n",
       "      <th>X1</th>\n",
       "      <th>X2</th>\n",
       "      <th>X3</th>\n",
       "      <th>X5</th>\n",
       "      <th>X6</th>\n",
       "      <th>X8</th>\n",
       "      <th>X12</th>\n",
       "      <th>X13</th>\n",
       "      <th>X14</th>\n",
       "      <th>...</th>\n",
       "      <th>12526</th>\n",
       "      <th>6639</th>\n",
       "      <th>4899</th>\n",
       "      <th>3178</th>\n",
       "      <th>2437</th>\n",
       "      <th>2483</th>\n",
       "      <th>6181</th>\n",
       "      <th>2811</th>\n",
       "      <th>6854</th>\n",
       "      <th>4573</th>\n",
       "    </tr>\n",
       "  </thead>\n",
       "  <tbody>\n",
       "    <tr>\n",
       "      <th>0</th>\n",
       "      <td>32</td>\n",
       "      <td>23</td>\n",
       "      <td>17</td>\n",
       "      <td>0</td>\n",
       "      <td>24</td>\n",
       "      <td>9</td>\n",
       "      <td>14</td>\n",
       "      <td>0</td>\n",
       "      <td>1</td>\n",
       "      <td>0</td>\n",
       "      <td>...</td>\n",
       "      <td>0.0</td>\n",
       "      <td>0.0</td>\n",
       "      <td>0.0</td>\n",
       "      <td>0.0</td>\n",
       "      <td>0.0</td>\n",
       "      <td>0.0</td>\n",
       "      <td>0.0</td>\n",
       "      <td>0.0</td>\n",
       "      <td>0.0</td>\n",
       "      <td>0.0</td>\n",
       "    </tr>\n",
       "    <tr>\n",
       "      <th>1</th>\n",
       "      <td>32</td>\n",
       "      <td>21</td>\n",
       "      <td>19</td>\n",
       "      <td>4</td>\n",
       "      <td>28</td>\n",
       "      <td>11</td>\n",
       "      <td>14</td>\n",
       "      <td>0</td>\n",
       "      <td>0</td>\n",
       "      <td>0</td>\n",
       "      <td>...</td>\n",
       "      <td>0.0</td>\n",
       "      <td>1.0</td>\n",
       "      <td>0.0</td>\n",
       "      <td>0.0</td>\n",
       "      <td>1.0</td>\n",
       "      <td>0.0</td>\n",
       "      <td>1.0</td>\n",
       "      <td>1.0</td>\n",
       "      <td>1.0</td>\n",
       "      <td>1.0</td>\n",
       "    </tr>\n",
       "    <tr>\n",
       "      <th>2</th>\n",
       "      <td>20</td>\n",
       "      <td>24</td>\n",
       "      <td>34</td>\n",
       "      <td>2</td>\n",
       "      <td>27</td>\n",
       "      <td>9</td>\n",
       "      <td>23</td>\n",
       "      <td>0</td>\n",
       "      <td>0</td>\n",
       "      <td>0</td>\n",
       "      <td>...</td>\n",
       "      <td>0.0</td>\n",
       "      <td>0.0</td>\n",
       "      <td>0.0</td>\n",
       "      <td>1.0</td>\n",
       "      <td>1.0</td>\n",
       "      <td>1.0</td>\n",
       "      <td>1.0</td>\n",
       "      <td>0.0</td>\n",
       "      <td>0.0</td>\n",
       "      <td>0.0</td>\n",
       "    </tr>\n",
       "    <tr>\n",
       "      <th>3</th>\n",
       "      <td>20</td>\n",
       "      <td>21</td>\n",
       "      <td>34</td>\n",
       "      <td>5</td>\n",
       "      <td>27</td>\n",
       "      <td>11</td>\n",
       "      <td>4</td>\n",
       "      <td>0</td>\n",
       "      <td>0</td>\n",
       "      <td>0</td>\n",
       "      <td>...</td>\n",
       "      <td>0.0</td>\n",
       "      <td>0.0</td>\n",
       "      <td>0.0</td>\n",
       "      <td>1.0</td>\n",
       "      <td>0.0</td>\n",
       "      <td>0.0</td>\n",
       "      <td>1.0</td>\n",
       "      <td>0.0</td>\n",
       "      <td>0.0</td>\n",
       "      <td>0.0</td>\n",
       "    </tr>\n",
       "    <tr>\n",
       "      <th>4</th>\n",
       "      <td>20</td>\n",
       "      <td>23</td>\n",
       "      <td>34</td>\n",
       "      <td>5</td>\n",
       "      <td>12</td>\n",
       "      <td>3</td>\n",
       "      <td>13</td>\n",
       "      <td>0</td>\n",
       "      <td>0</td>\n",
       "      <td>0</td>\n",
       "      <td>...</td>\n",
       "      <td>0.0</td>\n",
       "      <td>0.0</td>\n",
       "      <td>0.0</td>\n",
       "      <td>1.0</td>\n",
       "      <td>1.0</td>\n",
       "      <td>1.0</td>\n",
       "      <td>1.0</td>\n",
       "      <td>0.0</td>\n",
       "      <td>0.0</td>\n",
       "      <td>0.0</td>\n",
       "    </tr>\n",
       "  </tbody>\n",
       "</table>\n",
       "<p>5 rows × 581 columns</p>\n",
       "</div>"
      ],
      "text/plain": [
       "   X0  X1  X2  X3  X5  X6  X8  X12  X13  X14  ...  12526  6639  4899  3178  \\\n",
       "0  32  23  17   0  24   9  14    0    1    0  ...    0.0   0.0   0.0   0.0   \n",
       "1  32  21  19   4  28  11  14    0    0    0  ...    0.0   1.0   0.0   0.0   \n",
       "2  20  24  34   2  27   9  23    0    0    0  ...    0.0   0.0   0.0   1.0   \n",
       "3  20  21  34   5  27  11   4    0    0    0  ...    0.0   0.0   0.0   1.0   \n",
       "4  20  23  34   5  12   3  13    0    0    0  ...    0.0   0.0   0.0   1.0   \n",
       "\n",
       "   2437  2483  6181  2811  6854  4573  \n",
       "0   0.0   0.0   0.0   0.0   0.0   0.0  \n",
       "1   1.0   0.0   1.0   1.0   1.0   1.0  \n",
       "2   1.0   1.0   1.0   0.0   0.0   0.0  \n",
       "3   0.0   0.0   1.0   0.0   0.0   0.0  \n",
       "4   1.0   1.0   1.0   0.0   0.0   0.0  \n",
       "\n",
       "[5 rows x 581 columns]"
      ]
     },
     "execution_count": 62,
     "metadata": {},
     "output_type": "execute_result"
    }
   ],
   "source": [
    "train_all.head()"
   ]
  },
  {
   "cell_type": "code",
   "execution_count": 58,
   "id": "40bd77a5",
   "metadata": {},
   "outputs": [],
   "source": [
    "x_train, x_test, y_train, y_test = train_test_split(X, y, test_size = 0.2, random_state = 42)"
   ]
  },
  {
   "cell_type": "code",
   "execution_count": 78,
   "id": "638da9d3",
   "metadata": {},
   "outputs": [
    {
     "name": "stdout",
     "output_type": "stream",
     "text": [
      "Fitting 5 folds for each of 7 candidates, totalling 35 fits\n",
      "Fitting 5 folds for each of 7 candidates, totalling 35 fits\n"
     ]
    },
    {
     "data": {
      "text/plain": [
       "RandomizedSearchCV(estimator=DecisionTreeRegressor(), n_jobs=-1,\n",
       "                   param_distributions={'max_depth': [1, 5, 10, 50, 100, 500,\n",
       "                                                      1000]},\n",
       "                   verbose=10)"
      ]
     },
     "execution_count": 78,
     "metadata": {},
     "output_type": "execute_result"
    }
   ],
   "source": [
    "depth = [1, 5, 10, 50, 100, 500, 1000]\n",
    "parameters = {'max_depth' : depth}\n",
    "\n",
    "dtr = DecisionTreeRegressor()\n",
    "\n",
    "regressor = RandomizedSearchCV(dtr, param_distributions = parameters, verbose = 10, n_jobs = -1)\n",
    "best_regressor = regressor.fit(x_train, y_train)\n",
    "best_max_depth = best_regressor.best_estimator_.get_params()\n",
    "regressor.fit(x_train, y_train)"
   ]
  },
  {
   "cell_type": "code",
   "execution_count": 79,
   "id": "c1769907",
   "metadata": {},
   "outputs": [
    {
     "data": {
      "text/plain": [
       "{'ccp_alpha': 0.0,\n",
       " 'criterion': 'squared_error',\n",
       " 'max_depth': 5,\n",
       " 'max_features': None,\n",
       " 'max_leaf_nodes': None,\n",
       " 'min_impurity_decrease': 0.0,\n",
       " 'min_samples_leaf': 1,\n",
       " 'min_samples_split': 2,\n",
       " 'min_weight_fraction_leaf': 0.0,\n",
       " 'random_state': None,\n",
       " 'splitter': 'best'}"
      ]
     },
     "execution_count": 79,
     "metadata": {},
     "output_type": "execute_result"
    }
   ],
   "source": [
    "best_max_depth "
   ]
  },
  {
   "cell_type": "code",
   "execution_count": 63,
   "id": "292f52d9",
   "metadata": {},
   "outputs": [],
   "source": [
    "dtr = DecisionTreeRegressor(max_depth = 5)\n",
    "\n",
    "dtr.fit(x_train, y_train)\n",
    "\n",
    "y_pred_train = dtr.predict(x_train)\n",
    "y_pred_test = dtr.predict(x_test)"
   ]
  },
  {
   "cell_type": "code",
   "execution_count": 64,
   "id": "a63feb09",
   "metadata": {},
   "outputs": [
    {
     "data": {
      "text/plain": [
       "0.6492476238653702"
      ]
     },
     "execution_count": 64,
     "metadata": {},
     "output_type": "execute_result"
    }
   ],
   "source": [
    "r2_score(y_train, y_pred_train)"
   ]
  },
  {
   "cell_type": "code",
   "execution_count": 65,
   "id": "a88dfe28",
   "metadata": {},
   "outputs": [
    {
     "data": {
      "text/plain": [
       "0.5690966643309707"
      ]
     },
     "execution_count": 65,
     "metadata": {},
     "output_type": "execute_result"
    }
   ],
   "source": [
    "r2_score(y_test, y_pred_test)"
   ]
  },
  {
   "cell_type": "markdown",
   "id": "7e7dedb0",
   "metadata": {},
   "source": [
    "#### Label Encoded Categorical Features + Binary Features + PCA + SVD + GRP + Interaction Features (Random forest Regression) "
   ]
  },
  {
   "cell_type": "code",
   "execution_count": 83,
   "id": "9f3cc3e6",
   "metadata": {},
   "outputs": [
    {
     "name": "stdout",
     "output_type": "stream",
     "text": [
      "Fitting 5 folds for each of 10 candidates, totalling 50 fits\n",
      "Fitting 5 folds for each of 10 candidates, totalling 50 fits\n"
     ]
    },
    {
     "data": {
      "text/plain": [
       "RandomizedSearchCV(estimator=RandomForestRegressor(), n_jobs=-1,\n",
       "                   param_distributions={'max_depth': [3, 5, 10, 15, 20, 25, 30],\n",
       "                                        'max_features': ['auto', 'sqrt'],\n",
       "                                        'min_samples_leaf': [1, 2, 5, 10],\n",
       "                                        'min_samples_split': [2, 3, 5, 10, 15,\n",
       "                                                              100],\n",
       "                                        'n_estimators': [10, 25, 50, 100, 200,\n",
       "                                                         300, 400, 500]},\n",
       "                   verbose=10)"
      ]
     },
     "execution_count": 83,
     "metadata": {},
     "output_type": "execute_result"
    }
   ],
   "source": [
    "n_estimators = [10, 25, 50, 100, 200, 300, 400, 500]\n",
    "max_features = ['auto', 'sqrt']\n",
    "max_depth = [3, 5, 10, 15, 20, 25, 30]\n",
    "min_samples_split = [2, 3, 5, 10, 15, 100]\n",
    "min_samples_leaf = [1, 2, 5, 10]\n",
    "\n",
    "parameters = {'n_estimators': n_estimators, 'max_features': max_features, 'max_depth': max_depth, 'min_samples_split': min_samples_split, 'min_samples_leaf': min_samples_leaf}\n",
    "\n",
    "rfr = RandomForestRegressor()\n",
    "regressor = RandomizedSearchCV(rfr, param_distributions = parameters, verbose = 10, n_jobs = -1)\n",
    "best_regressor = regressor.fit(x_train, y_train)\n",
    "best_param = best_regressor.best_estimator_.get_params()\n",
    "regressor.fit(x_train, y_train)"
   ]
  },
  {
   "cell_type": "code",
   "execution_count": 84,
   "id": "70d881ce",
   "metadata": {},
   "outputs": [
    {
     "data": {
      "text/plain": [
       "{'bootstrap': True,\n",
       " 'ccp_alpha': 0.0,\n",
       " 'criterion': 'squared_error',\n",
       " 'max_depth': 3,\n",
       " 'max_features': 'auto',\n",
       " 'max_leaf_nodes': None,\n",
       " 'max_samples': None,\n",
       " 'min_impurity_decrease': 0.0,\n",
       " 'min_samples_leaf': 1,\n",
       " 'min_samples_split': 10,\n",
       " 'min_weight_fraction_leaf': 0.0,\n",
       " 'n_estimators': 500,\n",
       " 'n_jobs': None,\n",
       " 'oob_score': False,\n",
       " 'random_state': None,\n",
       " 'verbose': 0,\n",
       " 'warm_start': False}"
      ]
     },
     "execution_count": 84,
     "metadata": {},
     "output_type": "execute_result"
    }
   ],
   "source": [
    "best_param"
   ]
  },
  {
   "cell_type": "code",
   "execution_count": 68,
   "id": "6c6192be",
   "metadata": {},
   "outputs": [],
   "source": [
    "rfr = RandomForestRegressor(n_estimators = 500, max_features = 'auto', max_depth = 3, min_samples_leaf = 1, min_samples_split = 10)\n",
    "\n",
    "rfr.fit(x_train, y_train)\n",
    "\n",
    "y_pred_train = rfr.predict(x_train)\n",
    "y_pred_test = rfr.predict(x_test)"
   ]
  },
  {
   "cell_type": "code",
   "execution_count": 86,
   "id": "044dee54",
   "metadata": {},
   "outputs": [
    {
     "data": {
      "text/plain": [
       "0.6206714626414851"
      ]
     },
     "execution_count": 86,
     "metadata": {},
     "output_type": "execute_result"
    }
   ],
   "source": [
    "r2_score(y_train, y_pred_train)"
   ]
  },
  {
   "cell_type": "code",
   "execution_count": 87,
   "id": "c1642079",
   "metadata": {},
   "outputs": [
    {
     "data": {
      "text/plain": [
       "0.5853256353985903"
      ]
     },
     "execution_count": 87,
     "metadata": {},
     "output_type": "execute_result"
    }
   ],
   "source": [
    "r2_score(y_test, y_pred_test)"
   ]
  },
  {
   "cell_type": "markdown",
   "id": "db09b7f8",
   "metadata": {},
   "source": [
    "#### Label Encoded Categorical Features + Binary Features + PCA + SVD + GRP + Interaction Features (XGBoost Regressor)¶ "
   ]
  },
  {
   "cell_type": "code",
   "execution_count": 85,
   "id": "56753824",
   "metadata": {},
   "outputs": [],
   "source": [
    "original_train = pd.read_csv('original_train.csv')\n",
    "original_test = pd.read_csv('original_test.csv')\n",
    "\n",
    "original_all_train = pd.read_csv('original_all_train.csv')\n",
    "original_all_test = pd.read_csv('original_all_test.csv')\n",
    "\n",
    "y = pd.read_csv('labels.csv')\n",
    "\n",
    "\n",
    "X = original_all_train\n",
    "\n",
    "x_train, x_cv, y_train, y_cv = train_test_split(X, y, test_size = 0.2, random_state = 42)\n",
    "\n",
    "x_train_org, x_test_org, y_train_org, y_test_org = train_test_split(original_train, y, test_size = 0.2, random_state = 42)"
   ]
  },
  {
   "cell_type": "code",
   "execution_count": null,
   "id": "ffa90a69",
   "metadata": {},
   "outputs": [],
   "source": [
    "xgb = XGBRegressor(random_state=42, n_jobs=-1) \n",
    "\n",
    "parameters = {'learning_rate':[0.001,0.01,0.05,0.1,1], \n",
    "              'n_estimators':[100,150,200,500], \n",
    "              'max_depth':[2,3,5,10], \n",
    "              'colsample_bytree':[0.1,0.5,0.7,1], \n",
    "              'subsample':[0.2,0.3,0.5,1], \n",
    "              'gamma':[1e-2,1e-3,0,0.1,0.01,0.5,1],             \n",
    "              'reg_alpha':[1e-5,1e-3,1e-1,1,1e1]} \n",
    "\n",
    "reg = RandomizedSearchCV(xgb,parameters,cv=5, scoring='r2', return_train_score=True, n_jobs=-1, verbose=10) \n",
    "best_regressor = reg.fit(x_train, y_train)\n",
    "best_param = best_regressor.best_estimator_.get_params()"
   ]
  },
  {
   "cell_type": "code",
   "execution_count": 87,
   "id": "7c4af6c7",
   "metadata": {},
   "outputs": [
    {
     "name": "stdout",
     "output_type": "stream",
     "text": [
      "[00:44:06] WARNING: ..\\src\\learner.cc:576: \n",
      "Parameters: { \"subsmaple\" } might not be used.\n",
      "\n",
      "  This could be a false alarm, with some parameters getting used by language bindings but\n",
      "  then being mistakenly passed down to XGBoost core, or some parameter actually being used\n",
      "  but getting flagged wrongly here. Please open an issue if you find any such cases.\n",
      "\n",
      "\n"
     ]
    }
   ],
   "source": [
    "xgb = XGBRegressor(learning_rate = 0.1, n_estimators = 200, max_depth = 2, colsample_bytree = 0.1, subsmaple = 1, gamma = 0.001, reg_alpha = 0.001)\n",
    "xgb.fit(x_train, y_train)\n",
    "\n",
    "\n",
    "\n",
    "y_pred_train = xgb.predict(x_train)\n",
    "y_pred_cv = xgb.predict(x_cv)"
   ]
  },
  {
   "cell_type": "code",
   "execution_count": 88,
   "id": "bcb8da94",
   "metadata": {},
   "outputs": [
    {
     "data": {
      "text/plain": [
       "0.6922392425376256"
      ]
     },
     "execution_count": 88,
     "metadata": {},
     "output_type": "execute_result"
    }
   ],
   "source": [
    "r2_score(y_train, y_pred_train)"
   ]
  },
  {
   "cell_type": "code",
   "execution_count": 89,
   "id": "0c5a4d55",
   "metadata": {},
   "outputs": [
    {
     "data": {
      "text/plain": [
       "0.5553863751143491"
      ]
     },
     "execution_count": 89,
     "metadata": {},
     "output_type": "execute_result"
    }
   ],
   "source": [
    "r2_score(y_cv, y_pred_cv)"
   ]
  },
  {
   "cell_type": "markdown",
   "id": "dc6e60f0",
   "metadata": {},
   "source": [
    "#### Label Encoded Categorical Features + Binary Features + PCA + SVD + GRP + Interaction Features (Stacked + Avg)"
   ]
  },
  {
   "cell_type": "code",
   "execution_count": 91,
   "id": "af7338d1",
   "metadata": {},
   "outputs": [],
   "source": [
    "class AveragingModels(BaseEstimator, RegressorMixin, TransformerMixin):\n",
    "    def __init__(self, models):\n",
    "        self.models = models\n",
    "    def fit(self, X, y):\n",
    "        self.models_ = [clone(x) for x in self.models]\n",
    "        for model in self.models_:\n",
    "            model.fit(X, y)\n",
    "        return self\n",
    "    def predict(self, X):\n",
    "        predictions = np.column_stack([\n",
    "            model.predict(X) for model in self.models_\n",
    "        ])\n",
    "        return np.mean(predictions, axis=1)"
   ]
  },
  {
   "cell_type": "code",
   "execution_count": 92,
   "id": "2285ab2b",
   "metadata": {},
   "outputs": [],
   "source": [
    "xgb = XGBRegressor(learning_rate = 0.1, n_estimators = 200, max_depth = 2, colsample_bytree = 0.1, subsmaple = 1, gamma = 0.001, reg_alpha = 0.001)\n",
    "rfr = RandomForestRegressor(n_estimators = 500, max_features = 'auto', max_depth = 3, min_samples_leaf = 1, min_samples_split = 10)\n",
    "dtr = DecisionTreeRegressor(max_depth = 5)\n",
    "\n",
    "averaged_models = AveragingModels(models = (xgb, rfr, dtr))"
   ]
  },
  {
   "cell_type": "code",
   "execution_count": 93,
   "id": "5a6948d1",
   "metadata": {},
   "outputs": [
    {
     "name": "stdout",
     "output_type": "stream",
     "text": [
      "[00:46:18] WARNING: ..\\src\\learner.cc:576: \n",
      "Parameters: { \"subsmaple\" } might not be used.\n",
      "\n",
      "  This could be a false alarm, with some parameters getting used by language bindings but\n",
      "  then being mistakenly passed down to XGBoost core, or some parameter actually being used\n",
      "  but getting flagged wrongly here. Please open an issue if you find any such cases.\n",
      "\n",
      "\n"
     ]
    },
    {
     "data": {
      "text/plain": [
       "AveragingModels(models=(XGBRegressor(base_score=None, booster=None,\n",
       "                                     colsample_bylevel=None,\n",
       "                                     colsample_bynode=None,\n",
       "                                     colsample_bytree=0.1,\n",
       "                                     enable_categorical=False, gamma=0.001,\n",
       "                                     gpu_id=None, importance_type=None,\n",
       "                                     interaction_constraints=None,\n",
       "                                     learning_rate=0.1, max_delta_step=None,\n",
       "                                     max_depth=2, min_child_weight=None,\n",
       "                                     missing=nan, monotone_constraints=None,\n",
       "                                     n_estimators=200, n_jobs=None,\n",
       "                                     num_parallel_tree=None, predictor=None,\n",
       "                                     random_state=None, reg_alpha=0.001,\n",
       "                                     reg_lambda=None, scale_pos_weight=None,\n",
       "                                     subsample=None, subsmaple=1,\n",
       "                                     tree_method=None, validate_parameters=None,\n",
       "                                     verbosity=None),\n",
       "                        RandomForestRegressor(max_depth=3, min_samples_split=10,\n",
       "                                              n_estimators=500),\n",
       "                        DecisionTreeRegressor(max_depth=5)))"
      ]
     },
     "execution_count": 93,
     "metadata": {},
     "output_type": "execute_result"
    }
   ],
   "source": [
    "averaged_models.fit(x_train, y_train)"
   ]
  },
  {
   "cell_type": "code",
   "execution_count": 94,
   "id": "f922fee7",
   "metadata": {},
   "outputs": [],
   "source": [
    "y_pred_train = averaged_models.predict(x_train)\n",
    "y_pred_cv = averaged_models.predict(x_cv)"
   ]
  },
  {
   "cell_type": "code",
   "execution_count": 95,
   "id": "d18cc6f7",
   "metadata": {},
   "outputs": [
    {
     "data": {
      "text/plain": [
       "0.6674728155265328"
      ]
     },
     "execution_count": 95,
     "metadata": {},
     "output_type": "execute_result"
    }
   ],
   "source": [
    "r2_score(y_train, y_pred_train)"
   ]
  },
  {
   "cell_type": "code",
   "execution_count": 96,
   "id": "ab817077",
   "metadata": {},
   "outputs": [
    {
     "data": {
      "text/plain": [
       "0.5842066362133627"
      ]
     },
     "execution_count": 96,
     "metadata": {},
     "output_type": "execute_result"
    }
   ],
   "source": [
    "r2_score(y_cv, y_pred_cv)"
   ]
  },
  {
   "cell_type": "markdown",
   "id": "22cc9599",
   "metadata": {},
   "source": [
    "#### Decision Tree (Original Features) + Random Forest (Original + All)"
   ]
  },
  {
   "cell_type": "code",
   "execution_count": 97,
   "id": "0b7a2730",
   "metadata": {},
   "outputs": [
    {
     "data": {
      "text/plain": [
       "RandomForestRegressor(max_depth=3, min_samples_split=10, n_estimators=500)"
      ]
     },
     "execution_count": 97,
     "metadata": {},
     "output_type": "execute_result"
    }
   ],
   "source": [
    "x_train_org, x_test_org, y_train_org, y_test_org = train_test_split(original_train, y, test_size = 0.2, random_state = 42)\n",
    "\n",
    "dtr = DecisionTreeRegressor(max_depth = 5)\n",
    "dtr.fit(x_train_org, y_train_org)\n",
    "\n",
    "rfr = RandomForestRegressor(n_estimators = 500, max_features = 'auto', max_depth = 3, min_samples_leaf = 1, min_samples_split = 10)\n",
    "rfr.fit(x_train, y_train)"
   ]
  },
  {
   "cell_type": "code",
   "execution_count": 98,
   "id": "7fca014d",
   "metadata": {},
   "outputs": [],
   "source": [
    "y_pred_train_dtr = dtr.predict(x_train_org)\n",
    "y_pred_cv_dtr = dtr.predict(x_test_org)\n",
    "\n",
    "y_pred_train_rfr = rfr.predict(x_train)\n",
    "y_pred_cv_rfr = rfr.predict(x_cv)"
   ]
  },
  {
   "cell_type": "code",
   "execution_count": 99,
   "id": "77219f7b",
   "metadata": {},
   "outputs": [],
   "source": [
    "y_pred_train = (y_pred_train_dtr + y_pred_train_rfr)/2\n",
    "y_pred_cv = (y_pred_cv_dtr + y_pred_cv_rfr)/2"
   ]
  },
  {
   "cell_type": "code",
   "execution_count": 100,
   "id": "7323ff4a",
   "metadata": {},
   "outputs": [
    {
     "data": {
      "text/plain": [
       "0.6302339591778335"
      ]
     },
     "execution_count": 100,
     "metadata": {},
     "output_type": "execute_result"
    }
   ],
   "source": [
    "r2_score(y_train, y_pred_train)"
   ]
  },
  {
   "cell_type": "code",
   "execution_count": 101,
   "id": "5b2507d5",
   "metadata": {},
   "outputs": [
    {
     "data": {
      "text/plain": [
       "0.5969944733053678"
      ]
     },
     "execution_count": 101,
     "metadata": {},
     "output_type": "execute_result"
    }
   ],
   "source": [
    "r2_score(y_cv, y_pred_cv)"
   ]
  },
  {
   "cell_type": "markdown",
   "id": "ca285051",
   "metadata": {},
   "source": [
    "### Tabulating Results "
   ]
  },
  {
   "cell_type": "code",
   "execution_count": 82,
   "id": "3d9bdfba",
   "metadata": {},
   "outputs": [],
   "source": [
    "myTable = PrettyTable([\"Model\", \"Train\", \"Validation\"])\n",
    "\n",
    "myTable.add_row(['LinearRegression + Orignal', '0.63', '0.55'])\n",
    "myTable.add_row(['DecisionTree + Orignal', '0.63', '0.60'])\n",
    "myTable.add_row(['RandomForest + Orignal', '0.65', '0.59'])\n",
    "myTable.add_row(['DecisionTree + Orignal + PCA + SVD', '0.65', '0.57'])\n",
    "myTable.add_row(['RandomForest + Orignal + PCA + SVD', '0.69', '0.53'])\n",
    "myTable.add_row(['DecisionTree + Orignal + PCA + SVD + GRP + Interaction', '0.65', '0.57'])\n",
    "myTable.add_row(['RandomForest + Orignal + PCA + SVD + GRP + Interaction', '0.63', '0.59'])\n",
    "myTable.add_row(['XGBoost + Orignal + PCA + SVD + GRP + Interaction', '0.69', '0.55'])\n",
    "myTable.add_row(['Avg Stacking + Orignal + PCA + SVD + GRP + Interaction', '0.66', '0.58'])\n",
    "myTable.add_row(['DecisionTree(Original) + RandomForest(All) Avg', '0.63', '0.60'])"
   ]
  },
  {
   "cell_type": "code",
   "execution_count": 83,
   "id": "4235ec66",
   "metadata": {},
   "outputs": [
    {
     "name": "stdout",
     "output_type": "stream",
     "text": [
      "+--------------------------------------------------------+-------+------------+\n",
      "|                         Model                          | Train | Validation |\n",
      "+--------------------------------------------------------+-------+------------+\n",
      "|               LinearRegression + Orignal               |  0.63 |    0.55    |\n",
      "|                 DecisionTree + Orignal                 |  0.63 |    0.60    |\n",
      "|                 RandomForest + Orignal                 |  0.65 |    0.59    |\n",
      "|           DecisionTree + Orignal + PCA + SVD           |  0.65 |    0.57    |\n",
      "|           RandomForest + Orignal + PCA + SVD           |  0.69 |    0.53    |\n",
      "| DecisionTree + Orignal + PCA + SVD + GRP + Interaction |  0.65 |    0.57    |\n",
      "| RandomForest + Orignal + PCA + SVD + GRP + Interaction |  0.63 |    0.59    |\n",
      "|   XGBoost + Orignal + PCA + SVD + GRP + Interaction    |  0.69 |    0.55    |\n",
      "| Avg Stacking + Orignal + PCA + SVD + GRP + Interaction |  0.66 |    0.58    |\n",
      "|     DecisionTree(Original) + RandomForest(All) Avg     |  0.63 |    0.60    |\n",
      "+--------------------------------------------------------+-------+------------+\n"
     ]
    }
   ],
   "source": [
    "print(myTable)"
   ]
  },
  {
   "cell_type": "code",
   "execution_count": null,
   "id": "4d5a149d",
   "metadata": {},
   "outputs": [],
   "source": []
  }
 ],
 "metadata": {
  "kernelspec": {
   "display_name": "Python 3 (ipykernel)",
   "language": "python",
   "name": "python3"
  },
  "language_info": {
   "codemirror_mode": {
    "name": "ipython",
    "version": 3
   },
   "file_extension": ".py",
   "mimetype": "text/x-python",
   "name": "python",
   "nbconvert_exporter": "python",
   "pygments_lexer": "ipython3",
   "version": "3.9.7"
  }
 },
 "nbformat": 4,
 "nbformat_minor": 5
}
